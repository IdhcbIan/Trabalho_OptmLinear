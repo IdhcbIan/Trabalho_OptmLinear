{
 "cells": [
  {
   "cell_type": "markdown",
   "id": "30def014",
   "metadata": {},
   "source": [
    "# Implementação do Algoritmo Simplex "
   ]
  },
  {
   "cell_type": "code",
   "execution_count": 1,
   "id": "8b546827",
   "metadata": {},
   "outputs": [],
   "source": [
    "# Bibliotecas\n",
    "import math\n",
    "import numpy as np\n",
    "import time"
   ]
  },
  {
   "cell_type": "code",
   "execution_count": 2,
   "id": "d3ea1e47",
   "metadata": {},
   "outputs": [],
   "source": [
    "# Funcao para imprimir tableu\n",
    "def print_tableau(tableau):\n",
    "    lins = len(tableau)\n",
    "    cols = len(tableau[0])\n",
    "    \n",
    "    header =  ['x' + str(i+1) for i in range(cols-1)]\n",
    "    print('           ' + ''.join(f'{col:>8}' for col in header))\n",
    "    print('              ' + '-' * (7 * cols))\n",
    "    \n",
    "    print('F.O. ' + ''.join(f'{val:8.2f}' for val in tableau[0]))\n",
    "    for i in range(1,lins-1):\n",
    "        print(f'x{tableau[-1][i-1]+1} = ' + ''.join(f'{val:8.2f}' for val in tableau[i]))\n",
    "    \n",
    "    print()"
   ]
  },
  {
   "cell_type": "markdown",
   "id": "d2be7484",
   "metadata": {},
   "source": [
    "# Fase 1: obter solução básica viável"
   ]
  },
  {
   "cell_type": "code",
   "execution_count": 3,
   "id": "5115c19f",
   "metadata": {},
   "outputs": [],
   "source": [
    "# Procura alguma coluna da matriz Identidade\n",
    "def eh_basica(coluna):\n",
    "    return sum(coluna) == 1 and len([c for c in coluna if c == 0]) == len(coluna) - 1\n",
    "\n",
    "# Retorna o indice onde esta \"1\"\n",
    "def get_one(vector):\n",
    "    for i in range(len(vector)):\n",
    "        if vector[i] == 1:\n",
    "            return i\n",
    "\n",
    "# Valores muito proximos de zero\n",
    "def is_zero(element):\n",
    "    return abs(element) <= 10e-4\n",
    "\n",
    "# Funcao que guarda o indice das variaveis basicas\n",
    "# associado a coluna da matriz identidade\n",
    "def basicas(A):\n",
    "    id = [0] * len(A)       # coluna da identidade\n",
    "    i_B = [-1] * len(A)     # indice da variavel\n",
    "    colunas = np.array(A).T\n",
    "    for coluna in range(0, len(colunas)):\n",
    "        if eh_basica(colunas[coluna]) and id[get_one(colunas[coluna])] == 0:\n",
    "            i_B[get_one(colunas[coluna])]= coluna\n",
    "            id[get_one(colunas[coluna])] = 1\n",
    "    return id, i_B\n",
    "# OBS: quando escreve basicas(A)[0] --> acessa quais colunas\n",
    "#                     basicas(A)[1] --> acessa os indices (-1) das basicas\n",
    "\n",
    "def fase1(c, A, b):\n",
    "    nvar = len(A[0])\n",
    "    d = (False, nvar)\n",
    "    # Verifica se é necessario adicionar variaveis artificiais\n",
    "    tem_sol_basica = any(x == -1 for x in basicas(A)[1])\n",
    "    if not tem_sol_basica:\n",
    "        d = (False, nvar)\n",
    "        return c, A, b, d\n",
    " \n",
    "    # Custos da nova funcao\n",
    "    c1 = [0] * len(c)    # zero para as variaveis originais\n",
    "    id = basicas(A)[0]\n",
    "    for i in range(0, len(id)):\n",
    "        if id[i] == 0:\n",
    "            coluna = [0] * len(id)\n",
    "            coluna[i] = 1\n",
    "            for linha in range(0, len(A)):\n",
    "                A[linha].append(coluna[linha])\n",
    "            c1.append(1)  # um para as variaveis artificiais\n",
    "    \n",
    "    # se precisou adicionar variaveis\n",
    "    d = (True, nvar)\n",
    "    \n",
    "    return c1, A, b, d"
   ]
  },
  {
   "cell_type": "markdown",
   "id": "a4d2016d",
   "metadata": {},
   "source": [
    "A fase 1 deve retornar um Tableau !!\n",
    "\n",
    "Usamos somente as colunas:\n",
    "\n",
    "    - da funcao objetivo e valores das basicas\n",
    "    - das variaveis originais\n",
    "    \n",
    "OBS: se a solucao encontrada for degenerada entao excluimos a linha de zeros"
   ]
  },
  {
   "cell_type": "code",
   "execution_count": 4,
   "id": "a2c52f2b",
   "metadata": {},
   "outputs": [],
   "source": [
    "# Reorganiza o tableau\n",
    "def resultado_fase1(tableau, nvar):\n",
    "    # mantem as colunas das variaveis originais\n",
    "    if not is_zero(tableau[0][0]):\n",
    "        return None, None\n",
    "\n",
    "    qtdd_colunas = nvar + 1\n",
    "\n",
    "    # Verify tableau has valid dimensions before accessing\n",
    "    if len(tableau) < 2:\n",
    "        return None, None\n",
    "\n",
    "    # Obtem os indices das variaveis basicas\n",
    "    basic_vars = tableau[-1] if len(tableau[-1]) > 0 else []\n",
    "\n",
    "    novo_A = []\n",
    "    novo_b = []\n",
    "\n",
    "    # Processa cada linha, exceto a primeira e a última\n",
    "    for basica in range(1, len(tableau)-1):\n",
    "        if basica < len(tableau) and basica < len(basic_vars) and basic_vars[basica] > nvar-1:\n",
    "            for j in range(1, nvar+1):\n",
    "                if j < len(tableau[basica]) and not is_zero(tableau[basica][j]):\n",
    "                    tableau = atualiza_tableau(tableau, (basica, j))\n",
    "\n",
    "    # mantem as linhas das variaveis basicas originais\n",
    "    if len(basic_vars) > 0:\n",
    "        for i, xB in enumerate(basic_vars):\n",
    "            if i+1 < len(tableau) and xB < qtdd_colunas:\n",
    "                row = tableau[i+1]\n",
    "                if len(row) >= qtdd_colunas:\n",
    "                    novo_A.append(row[1:qtdd_colunas])\n",
    "                    novo_b.append(row[0])\n",
    "\n",
    "    return novo_A, novo_b"
   ]
  },
  {
   "cell_type": "markdown",
   "id": "85c6f58d",
   "metadata": {},
   "source": [
    "# Fase 2: Aplicar Método Simplex"
   ]
  },
  {
   "cell_type": "markdown",
   "id": "6f23015b",
   "metadata": {},
   "source": [
    "## Tableau Inicial \n",
    "\n",
    "Estamos assumindo que para montar o Tableau está sendo passada uma matriz A que contenha todas as colunas da identidade necessarias para obter uma solucao basica viável.\n",
    "\n",
    "OBS: garantimos isso pois antes todos os problemas passam pela fase 1\n"
   ]
  },
  {
   "cell_type": "code",
   "execution_count": 5,
   "id": "155a82c2",
   "metadata": {},
   "outputs": [],
   "source": [
    "# Monta o Tableau Inicial se passou pela Fase 1\n",
    "def tableau_inicial_simples(c, A, b):\n",
    "    linhas_tableau = []\n",
    "    \n",
    "    # guarda as basicas\n",
    "    identidade, indice_basicas = basicas(A)\n",
    "    \n",
    "    # funcao objetivo e custos reduzidos\n",
    "    funcao_obj = (-1) * sum(b)\n",
    "    custos = []\n",
    "    for j in range(len(A[0])):\n",
    "        if j not in indice_basicas:\n",
    "            c_j = 0\n",
    "            for i in range(len(A)):\n",
    "                c_j += A[i][j]\n",
    "            custos.append((-1)*c_j)\n",
    "        else: \n",
    "            custos.append(0)\n",
    "    \n",
    "    linhas_tableau.append([funcao_obj]+custos)  # linha 0\n",
    "\n",
    "    # Concatena linhas de A com linhas de b\n",
    "    for i in range(len(b)):\n",
    "        linha = [b[i]] + A[i]\n",
    "        linhas_tableau.append(linha)\n",
    "\n",
    "    # indice das variaveis basicas\n",
    "    linhas_tableau.append(indice_basicas)  # ultima linha\n",
    "    return linhas_tableau"
   ]
  },
  {
   "cell_type": "code",
   "execution_count": 6,
   "id": "50fbbb5b",
   "metadata": {},
   "outputs": [],
   "source": [
    "# Monta o Tableau Inicial se nao passou pela Fase 1\n",
    "def tableau_inicial(c, A, b):\n",
    "    linhas_tableau = []\n",
    "    \n",
    "    # guarda as basicas\n",
    "    identidade, indice_basicas = basicas(A)\n",
    "    lz = []\n",
    "    \n",
    "     # funcao objetivo e custos reduzidos\n",
    "    fo = 0\n",
    "    for i in range(0, len(b)):\n",
    "        fo += -(b[i] * c[indice_basicas[i]])   \n",
    "    lz.append(fo)\n",
    "\n",
    "    # Percorre todas as colunas da matriz\n",
    "    for i in range(0, len(A[0])):\n",
    "        # se a variavel nao é basica, calcula o custo reduzido\n",
    "        if i not in indice_basicas:\n",
    "            col = [A[j][i] for j in range(0, len(A))] \n",
    "            cust = [c[i] for i in indice_basicas]\n",
    "            el = sum([a*b for a,b in zip(col,cust)])\n",
    "            el = c[i] - el\n",
    "            lz.append(el)\n",
    "        # se é basica, entao custo é zero\n",
    "        else:\n",
    "            lz.append(0)\n",
    "\n",
    "    linhas_tableau.append(lz)  # linha 0\n",
    "\n",
    "    # Concatena linhas de A com linhas de b\n",
    "    for i in range(len(b)):\n",
    "        linha = [b[i]] + A[i]\n",
    "        linhas_tableau.append(linha)\n",
    "\n",
    "    # indice das variaveis basicas\n",
    "    linhas_tableau.append(indice_basicas)  # ultima linha\n",
    "    return linhas_tableau"
   ]
  },
  {
   "cell_type": "markdown",
   "id": "19fbf0cd",
   "metadata": {},
   "source": [
    "Funções que verificam se a solução é ótima ou não e atualizam o Tableau, se necessário"
   ]
  },
  {
   "cell_type": "code",
   "execution_count": 7,
   "id": "01dee2ed",
   "metadata": {},
   "outputs": [],
   "source": [
    "# Verifica se tem algum custo reduzido negativo\n",
    "def nao_otima(tableau):\n",
    "    return any(c < 0 for c in tableau[0][1:])\n",
    "\n",
    "# Define elemento pivo\n",
    "def posicao_pivo(tableau):\n",
    "    custos = tableau[0]\n",
    "    # Escolhe o primeiro custo reduzido negativo\n",
    "    # \"xj entra na base\"\n",
    "    for j in range(1,len(custos)):\n",
    "        if custos[j] < 0:\n",
    "            coluna_pivo = j\n",
    "            break\n",
    "\n",
    "    theta = []\n",
    "    for linha_i in range (1,len(tableau)-1):\n",
    "        if tableau[linha_i][coluna_pivo] <= 0:\n",
    "            theta.append(math.inf)\n",
    "        else:\n",
    "            theta.append(tableau[linha_i][0] / tableau[linha_i][coluna_pivo])\n",
    "        \n",
    "    # Escolhe o menor indice das variaveis que podem sair da base\n",
    "    # soma um porque estamos ignorando a linha de custos\n",
    "    #print(\"Theta: \",theta)\n",
    "\n",
    "    if set(theta) == {math.inf}:\n",
    "        print(\"Problema ilimitado\")\n",
    "        return None, None\n",
    "\n",
    "    linha_pivo = theta.index(min(theta)) + 1\n",
    "    \n",
    "    return linha_pivo, coluna_pivo\n",
    "\n",
    "# Atualiza o tableau com base no pivo encontrado\n",
    "def atualiza_tableau(tableau, pivo):\n",
    "    i, j = pivo\n",
    "    valor_pivo = tableau[i][j]\n",
    "    \n",
    "    # Divide a linha do pivo para que o valor do pivo seja 1\n",
    "    tableau[i] = np.array(tableau[i]) / valor_pivo\n",
    "    \n",
    "    # Atualiza os valores de dentro do tableau\n",
    "    # ou seja, zera os outros elementos da coluna\n",
    "    for linha in range (len(tableau)-1):\n",
    "        if linha != i:\n",
    "            multiplicador = (-1) * tableau[linha][j]\n",
    "            tableau[linha] = multiplicador*tableau[i] + tableau[linha]\n",
    "\n",
    "            tableau[linha] = np.array([0 if is_zero(x) else x for x in list(tableau[linha])])\n",
    "   \n",
    "    # Atualiza variaveis básicas\n",
    "    tableau[-1][i-1] = j-1 \n",
    "\n",
    "    return tableau\n",
    "\n",
    "def otima(tableau, nvar):\n",
    "    # inicia com todos valendo zero\n",
    "    solucoes = [0] * nvar\n",
    "    \n",
    "    # coloca o valor das basicas na posicao correta da solucao\n",
    "    for i, xB in enumerate(tableau[-1]):\n",
    "        solucoes[xB] = tableau[i+1][0]\n",
    "        \n",
    "    return solucoes        \n",
    "\n"
   ]
  },
  {
   "cell_type": "code",
   "execution_count": 8,
   "id": "2e9a2db2",
   "metadata": {},
   "outputs": [],
   "source": [
    "\"\"\"\n",
    "def simplex(c, A, b, d, t_fase1=False):\n",
    "    if t_fase1:\n",
    "        tableau = tableau_inicial(c, A, b)\n",
    "    else:\n",
    "        tableau = tableau_inicial_simples(c, A, b)\n",
    "\n",
    "    nvar = d[1]\n",
    "    \n",
    "    it = 0\n",
    "    while nao_otima(tableau):\n",
    "        pivo = posicao_pivo(tableau)\n",
    "        tableau = atualiza_tableau(tableau, pivo)\n",
    "        it += 1\n",
    "    print(\"Iterações:\", it)\n",
    "\n",
    "    if d[0]:\n",
    "        novo_A, novo_b = resultado_fase1(tableau, nvar)\n",
    "        # Check infeasibility based on Phase 1 objective value\n",
    "        if infactivel(tableau):\n",
    "            print(\"Problema infativel\")\n",
    "            return None, None\n",
    "        return novo_A, novo_b\n",
    "    else:\n",
    "        # Return the optimal solution\n",
    "        return A, otima(tableau, nvar)# SIMPLEX\n",
    "\"\"\"\n",
    "\n",
    "\n",
    "def simplex(c, A, b, d, t_fase1 = False):\n",
    "    if t_fase1:\n",
    "        tableau = tableau_inicial(c, A, b)\n",
    "    else:\n",
    "        tableau = tableau_inicial_simples(c, A, b)\n",
    "\n",
    "    #print(\"Tableau inicial: \")\n",
    "    #print_tableau(tableau)\n",
    "\n",
    "    nvar = d[1]\n",
    "    \n",
    "    it = 0\n",
    "    while nao_otima(tableau) and it < 10000:\n",
    "        #print_tableau(tableau)\n",
    "        it = it +1\n",
    "        pivo = posicao_pivo(tableau)\n",
    "        if pivo == (None, None):\n",
    "            return None, None\n",
    "        tableau = atualiza_tableau(tableau, pivo)\n",
    "    print(\"Iterações: \",it)\n",
    "        #print(\"Tableau atualizado: \")\n",
    "        #print_tableau(tableau)\n",
    "\n",
    "    if it == 10000:\n",
    "        print(\"Max Iteracoes atingida\")\n",
    "        return None, None\n",
    "\n",
    "\n",
    "\n",
    "    if d[0]:\n",
    "        novo_A, novo_b = resultado_fase1(tableau, nvar)\n",
    "        return novo_A, novo_b\n",
    "    else:\n",
    "        #print(\"Tableau final\")\n",
    "        #print_tableau(tableau)\n",
    "        return A, otima(tableau, nvar)  \n"
   ]
  },
  {
   "cell_type": "markdown",
   "id": "83a13025",
   "metadata": {},
   "source": [
    "## Retorna a solução ótima"
   ]
  },
  {
   "cell_type": "code",
   "execution_count": 9,
   "id": "58d883cf",
   "metadata": {},
   "outputs": [],
   "source": [
    "def get_solution_simplex(c, A, b):\n",
    "    inicio = time.time()\n",
    "    nvar = len(A[0])\n",
    "    d = (False, nvar)\n",
    "    c1, A1, b1, d = fase1(c, A, b)\n",
    "\n",
    "    # Caso seja necessario usar variaveis artificiais (Fase 1)\n",
    "    if d[0]:\n",
    "        #print(\"Simplex FASE 1: \")\n",
    "        A2, b2 = simplex(c1,A1,b1,d)\n",
    "        if A2 is None:\n",
    "            print(\"Problema infactivel\")\n",
    "            return None\n",
    "        #else:\n",
    "            #print(\"Resultado da fase 1: \",b2)\n",
    "\n",
    "        # Convertendo tudo para mesmo formato que o simplex (Fase 2)\n",
    "        A2 = [[float(x) for x in row] for row in A2]\n",
    "        b2 = [float(x) for x in b2] \n",
    "        \n",
    "        fA, fb = simplex(c, A2, b2,(False, nvar), True)\n",
    "        print(\"Solução ótima: \",fb)\n",
    "        \n",
    "    # Não foi necessario usar a fase 1 (Resolve direto Fase 2)    \n",
    "    else:  \n",
    "        fA, fb = simplex(c, A1, b1, d)\n",
    "        print(\"Solução ótima: \", fb)\n",
    "    \n",
    "    fim = time.time()\n",
    "    print(\"Tempo de execução: \", fim - inicio)"
   ]
  },
  {
   "cell_type": "markdown",
   "id": "a67336eb",
   "metadata": {},
   "source": [
    "# Testando alguns exemplos #"
   ]
  },
  {
   "cell_type": "markdown",
   "id": "b14f2078",
   "metadata": {},
   "source": [
    "### Slides aula 23\n",
    "\n",
    "Solucão básica viável para iniciar o simplex:\n",
    "(x1,x2,x3,x4) = (1 ; 1/2 ; 1/3 ; 0) e zero nas variaveis artificiais\n",
    "\n",
    "Problema: A tem linhas LD --> sol. encontrada na fase 1 é degenerada"
   ]
  },
  {
   "cell_type": "code",
   "execution_count": 10,
   "id": "0f8eda25",
   "metadata": {},
   "outputs": [
    {
     "name": "stdout",
     "output_type": "stream",
     "text": [
      "Iterações:  3\n",
      "Iterações:  1\n",
      "Solução ótima:  [np.float64(0.4999999999999998), np.float64(1.2500000000000002), 0, np.float64(1.0000000000000004)]\n",
      "Tempo de execução:  0.0018198490142822266\n"
     ]
    }
   ],
   "source": [
    "# Coeficientes da função objetivo\n",
    "c = [1, 1, 1, 0]\n",
    "\n",
    "# Matriz de coeficientes das restrições\n",
    "A = [\n",
    "    [1, 2, 3, 0],\n",
    "    [-1, 2, 6, 0],\n",
    "    [0, 4, 9, 0],\n",
    "    [0, 0, 3, 1]\n",
    "]\n",
    "\n",
    "# Vetor de termos independentes das restrições\n",
    "b = [3, 2, 5, 1]\n",
    "\n",
    "get_solution_simplex(c, A, b)"
   ]
  },
  {
   "cell_type": "markdown",
   "id": "8bd516ef",
   "metadata": {},
   "source": [
    "### Sei la\n",
    "Solução ótima: (3,2,0,0)"
   ]
  },
  {
   "cell_type": "code",
   "execution_count": 11,
   "id": "2eba9081",
   "metadata": {},
   "outputs": [
    {
     "name": "stdout",
     "output_type": "stream",
     "text": [
      "Iterações:  2\n",
      "Solução ótima:  [np.float64(3.0), np.float64(2.0), 0, 0]\n",
      "Tempo de execução:  0.0009310245513916016\n"
     ]
    }
   ],
   "source": [
    "# Coeficientes da função objetivo\n",
    "c = [-2, -1, 0, 0] \n",
    "\n",
    "# Matriz de coeficientes das restrições\n",
    "A = [\n",
    "    [-1, 1, 1, 0],  \n",
    "    [1, 2, 0, 1]   \n",
    "]\n",
    "\n",
    "# Vetor de termos independentes das restrições\n",
    "b = [-1, 7]\n",
    "\n",
    "get_solution_simplex(c, A, b)"
   ]
  },
  {
   "cell_type": "markdown",
   "id": "9540ddf6",
   "metadata": {},
   "source": [
    "### Lista 20\n",
    "Solução ótima: (1,5,0)"
   ]
  },
  {
   "cell_type": "code",
   "execution_count": 12,
   "id": "950bd110",
   "metadata": {},
   "outputs": [
    {
     "name": "stdout",
     "output_type": "stream",
     "text": [
      "Iterações:  2\n",
      "Iterações:  0\n",
      "Solução ótima:  [1.0, 5.0, 0]\n",
      "Tempo de execução:  0.00045013427734375\n"
     ]
    }
   ],
   "source": [
    "# Coeficientes da função objetivo\n",
    "c = [4, 3, 7] \n",
    "\n",
    "# Matriz de coeficientes das restrições\n",
    "A = [\n",
    "    [2, 2, 1], \n",
    "    [3, 1, 2]  \n",
    "]\n",
    "\n",
    "# Vetor de termos independentes das restrições\n",
    "b = [12, 8]\n",
    "\n",
    "get_solution_simplex(c, A, b)"
   ]
  },
  {
   "cell_type": "markdown",
   "id": "bdb4eb8e",
   "metadata": {},
   "source": [
    "### Lista 20\n",
    "Trocando b para (5,8)\n",
    "\n",
    "Solução ótima: (2,0,1)"
   ]
  },
  {
   "cell_type": "code",
   "execution_count": 13,
   "id": "d155ec98",
   "metadata": {},
   "outputs": [
    {
     "name": "stdout",
     "output_type": "stream",
     "text": [
      "Iterações:  2\n",
      "Iterações:  0\n",
      "Solução ótima:  [2.0, 0, 1.0]\n",
      "Tempo de execução:  0.001558065414428711\n"
     ]
    }
   ],
   "source": [
    "# Coeficientes da função objetivo\n",
    "c = [4, 3, 7]\n",
    "\n",
    "# Matriz de coeficientes das restrições\n",
    "A = [\n",
    "    [2, 2, 1], \n",
    "    [3, 1, 2]  \n",
    "]\n",
    "\n",
    "# Vetor de termos independentes das restrições\n",
    "b = [5, 8]\n",
    "\n",
    "get_solution_simplex(c, A, b)"
   ]
  },
  {
   "cell_type": "markdown",
   "id": "5b25a43b",
   "metadata": {},
   "source": [
    "### Lista 16\n",
    "Solução: problema infactível"
   ]
  },
  {
   "cell_type": "code",
   "execution_count": 14,
   "id": "774165b4",
   "metadata": {},
   "outputs": [
    {
     "name": "stdout",
     "output_type": "stream",
     "text": [
      "Iterações:  1\n",
      "Problema infactivel\n"
     ]
    }
   ],
   "source": [
    "# Coeficientes da função objetivo\n",
    "c = [2, -1, 5, 0] \n",
    "\n",
    "# Matriz de coeficientes das restrições\n",
    "A = [\n",
    "    [1, 1, 1, 0], \n",
    "    [2, 3, 2, 1] \n",
    "]\n",
    "\n",
    "# Vetor de termos independentes das restrições\n",
    "b = [4, 5]\n",
    "\n",
    "get_solution_simplex(c, A, b)"
   ]
  },
  {
   "cell_type": "markdown",
   "id": "dae23dbc",
   "metadata": {},
   "source": [
    "### Lista 13\n",
    "Solução: (-1/3,10/3)"
   ]
  },
  {
   "cell_type": "code",
   "execution_count": 15,
   "id": "70cbea0d",
   "metadata": {},
   "outputs": [
    {
     "name": "stdout",
     "output_type": "stream",
     "text": [
      "Iterações:  3\n",
      "Iterações:  1\n",
      "Solução ótima:  [0, np.float64(0.33333333333333326), np.float64(3.3333333333333335), 0, np.float64(0.33333333333333326), 0]\n",
      "Tempo de execução:  0.0006740093231201172\n"
     ]
    }
   ],
   "source": [
    "# Coeficientes da função objetivo\n",
    "#x1+, x1-, x2, x3, x4, x5\n",
    "c = [-1, 1, 1, 0, 0, 0] \n",
    "\n",
    "# Matriz de coeficientes das restrições\n",
    "A = [\n",
    "    [1, -1, 1, -1, 0, 0], \n",
    "    [-1, 1, 1, 0, 1, 0],\n",
    "    [-2, 2, 1, 0, 0, -1]\n",
    "]\n",
    "\n",
    "# Vetor de termos independentes das restrições\n",
    "b = [3, 4, 4]\n",
    "\n",
    "get_solution_simplex(c, A, b)"
   ]
  },
  {
   "cell_type": "markdown",
   "id": "05f571a4",
   "metadata": {},
   "source": [
    "### Algum problema ilimitado\n"
   ]
  },
  {
   "cell_type": "code",
   "execution_count": 16,
   "id": "b63d3236",
   "metadata": {},
   "outputs": [
    {
     "name": "stdout",
     "output_type": "stream",
     "text": [
      "Iterações:  2\n",
      "Problema ilimitado\n",
      "Solução ótima:  None\n",
      "Tempo de execução:  0.0009872913360595703\n"
     ]
    }
   ],
   "source": [
    "# Coeficientes da função objetivo\n",
    "c = [3, -3, 4, -4, 0] \n",
    "\n",
    "# Matriz de coeficientes das restrições\n",
    "A = [\n",
    "    [1, -1, 2, -2, 1], \n",
    "    [2, -2, 1, -1, -1]\n",
    "]\n",
    "\n",
    "# Vetor de termos independentes das restrições\n",
    "b = [8, 6]\n",
    "\n",
    "get_solution_simplex(c, A, b)"
   ]
  },
  {
   "cell_type": "markdown",
   "id": "53296548",
   "metadata": {},
   "source": [
    "# ---------------------------------------------"
   ]
  },
  {
   "cell_type": "code",
   "execution_count": null,
   "id": "260af279",
   "metadata": {},
   "outputs": [],
   "source": []
  },
  {
   "cell_type": "code",
   "execution_count": 17,
   "id": "0469f992",
   "metadata": {},
   "outputs": [
    {
     "name": "stdout",
     "output_type": "stream",
     "text": [
      "[[0, 0], [6, 37]]\n"
     ]
    }
   ],
   "source": [
    "def parse_test_problem(file_path):\n",
    "    \"\"\"\n",
    "    Parses the test.txt file and extracts the coefficients for the Simplex algorithm.\n",
    "\n",
    "    Parameters:\n",
    "        file_path (str): Path to the test.txt file.\n",
    "\n",
    "    Returns:\n",
    "        c (list): Coefficients of the objective function.\n",
    "        A (list of lists): Coefficient matrix for the constraints.\n",
    "        b (list): Right-hand side values for the constraints.\n",
    "    \"\"\"\n",
    "    with open(file_path, 'r') as file:\n",
    "        lines = file.readlines()\n",
    "\n",
    "    # Initialize sections\n",
    "    sections = {\n",
    "        'Initial': [],\n",
    "        'Aij': [],\n",
    "        'Bij': [],\n",
    "        'Cij': []\n",
    "    }\n",
    "\n",
    "    current_section = 'Initial'\n",
    "    for line in lines:\n",
    "        line = line.strip()\n",
    "        if line.startswith('1st Variable Cost Component'):\n",
    "            current_section = 'Aij'\n",
    "            continue\n",
    "        elif line.startswith('2nd Variable Cost Component'):\n",
    "            current_section = 'Bij'\n",
    "            continue\n",
    "        elif line.startswith('Fixed Cost Component'):\n",
    "            current_section = 'Cij'\n",
    "            continue\n",
    "        elif line == '':\n",
    "            continue  # Skip empty lines\n",
    "        sections[current_section].append(line)\n",
    "\n",
    "    # Process Initial Section\n",
    "    # Assuming the initial numbers represent some parameters like number of variables and constraints\n",
    "    # Adjust this part based on the actual meaning of the initial numbers\n",
    "    initial_params = list(map(int, sections['Initial']))\n",
    "    # Example: first number could be number of variables, second number number of constraints\n",
    "    # Here, we'll assume:\n",
    "    # n_vars = initial_params[0]\n",
    "    # n_constraints = initial_params[1]\n",
    "    # Modify as per actual data structure\n",
    "    n_vars = initial_params[0]\n",
    "    n_constraints = initial_params[1]\n",
    "    \n",
    "    # Process Aij, Bij, Cij\n",
    "    Aij = list(map(int, sections['Aij']))\n",
    "    Bij = list(map(int, sections['Bij']))\n",
    "    Cij = list(map(int, sections['Cij']))\n",
    "\n",
    "    # Construct the coefficient matrix A and vector b\n",
    "    # The exact construction depends on the problem structure\n",
    "    # Here's a generic way assuming Aij and Bij are parts of constraints\n",
    "\n",
    "    # Example construction (modify as needed):\n",
    "    # Let's assume each constraint is of the form Aij * x + Bij * y <= Cij\n",
    "    A = []\n",
    "    b = []\n",
    "    c = []\n",
    "\n",
    "    # Assuming the number of constraints is consistent\n",
    "    for i in range(n_constraints):\n",
    "        A.append([Aij[i], Bij[i]])\n",
    "        b.append(Cij[i])\n",
    "\n",
    "    # Define the objective function coefficients\n",
    "    # Modify this based on how the objective function is defined in test.txt\n",
    "    # For example, maximize or minimize some linear combination of variables\n",
    "    # Here, we'll assume a simple objective function\n",
    "    c = [1 for _ in range(n_vars)]  # Example: maximize sum of variables\n",
    "\n",
    "    return c, A, b\n",
    "\n",
    "\n",
    "c, A, b = parse_test_problem(\"Problems/test.txt\")\n",
    "\n",
    "print(A)"
   ]
  }
 ],
 "metadata": {
  "kernelspec": {
   "display_name": "Python 3 (ipykernel)",
   "language": "python",
   "name": "python3"
  },
  "language_info": {
   "codemirror_mode": {
    "name": "ipython",
    "version": 3
   },
   "file_extension": ".py",
   "mimetype": "text/x-python",
   "name": "python",
   "nbconvert_exporter": "python",
   "pygments_lexer": "ipython3",
   "version": "3.12.6"
  }
 },
 "nbformat": 4,
 "nbformat_minor": 5
}
