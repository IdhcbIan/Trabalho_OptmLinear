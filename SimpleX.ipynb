{
 "cells": [
  {
   "cell_type": "markdown",
   "metadata": {},
   "source": [
    "# Implementação do Algoritmo Simplex"
   ]
  },
  {
   "cell_type": "markdown",
   "metadata": {},
   "source": [
    "### Importação de bibliotecas"
   ]
  },
  {
   "cell_type": "code",
   "execution_count": 6,
   "metadata": {},
   "outputs": [],
   "source": [
    "import math\n",
    "import numpy as np\n",
    "import matplotlib.pyplot as plt"
   ]
  },
  {
   "cell_type": "markdown",
   "metadata": {},
   "source": [
    "### Inicialização do problema"
   ]
  },
  {
   "cell_type": "code",
   "execution_count": 16,
   "metadata": {},
   "outputs": [
    {
     "name": "stdout",
     "output_type": "stream",
     "text": [
      "[-1, 1, 1, 0, 0, 2]\n",
      "[1, 0, 0, 1, 0, 4]\n",
      "[0, 1, 0, 0, 1, 4]\n",
      "-------------------------\n",
      "[1, 1, 0, 0, 0, 0]\n",
      "-------------------------\n",
      "solution:  [np.float64(4.0), np.float64(4.0), np.float64(2.0), 0, 0, 0]\n"
     ]
    }
   ],
   "source": [
    "# Definição do problema de programação linear\n",
    "# coeficientes da função objetivo\n",
    "c = [1, 1, 0, 0, 0]\n",
    "\n",
    "# matriz de coeficientes das restrições\n",
    "A = [\n",
    "    [-1, 1, 1, 0, 0],\n",
    "    [ 1, 0, 0, 1, 0],\n",
    "    [ 0, 1, 0, 0, 1]\n",
    "]\n",
    "\n",
    "# vetor de termos independentes das restrições\n",
    "b = [2, 4, 4]\n",
    "\n",
    "\n",
    "\n",
    "def para_tableau(c, A, b):\n",
    "    # Combina cada equação (linha) de A com seu valor correspondente em b\n",
    "    # Isso cria as linhas iniciais do tableau (excluindo a linha da função objetivo)\n",
    "    xb = []\n",
    "    for equation, right_hand_side in zip(A, b):\n",
    "        tableau_row = equation + [right_hand_side]\n",
    "        print(tableau_row)\n",
    "        xb.append(tableau_row)\n",
    "    # Cria a linha da função objetivo para o tableau\n",
    "    # Adiciona um zero no final para representar o valor inicial da função objetivo\n",
    "    z = c + [0]\n",
    "\n",
    "    # Retorna o tableau completo\n",
    "    # Combina as linhas das restrições (xb) com a linha da função objetivo (z)\n",
    "    return xb + [z]\n",
    "\n",
    "def pode_ser_melhorado(tableau):\n",
    "    z = tableau[-1]\n",
    "    return any(x > 0 for x in z[:-1])\n",
    "\n",
    "def obter_posicao_pivo(tableau):\n",
    "    z = tableau[-1]\n",
    "    column = next(i for i, x in enumerate(z[:-1]) if x > 0)\n",
    "    \n",
    "    restrictions = []\n",
    "    for eq in tableau[:-1]:\n",
    "        el = eq[column]\n",
    "        restrictions.append(math.inf if el <= 0 else eq[-1] / el)\n",
    "\n",
    "    row = restrictions.index(min(restrictions))\n",
    "    return row, column\n",
    "\n",
    "def passo_pivo(tableau, pivot_position):\n",
    "    new_tableau = [[] for eq in tableau]\n",
    "    \n",
    "    i, j = pivot_position\n",
    "    pivot_value = tableau[i][j]\n",
    "    new_tableau[i] = np.array(tableau[i]) / pivot_value\n",
    "    \n",
    "    for eq_i, eq in enumerate(tableau):\n",
    "        if eq_i != i:\n",
    "            multiplier = np.array(new_tableau[i]) * tableau[eq_i][j]\n",
    "            new_tableau[eq_i] = np.array(tableau[eq_i]) - multiplier\n",
    "   \n",
    "    return new_tableau\n",
    "\n",
    "def eh_basica(column):\n",
    "    return sum(column) == 1 and len([c for c in column if c == 0]) == len(column) - 1\n",
    "\n",
    "def obter_solucao(tableau):\n",
    "    columns = np.array(tableau).T\n",
    "    solutions = []\n",
    "    for column in columns:\n",
    "        solution = 0\n",
    "        if eh_basica(column):\n",
    "            one_index = column.tolist().index(1)\n",
    "            solution = columns[-1][one_index]\n",
    "        solutions.append(solution)\n",
    "        \n",
    "    return solutions\n",
    "\n",
    "def simplex(c, A, b):\n",
    "    tableau = para_tableau(c, A, b)\n",
    "\n",
    "    while pode_ser_melhorado(tableau):\n",
    "        pivot_position = obter_posicao_pivo(tableau)\n",
    "        tableau = passo_pivo(tableau, pivot_position)\n",
    "\n",
    "    return obter_solucao(tableau)\n",
    "\n",
    "solucao = simplex(c, A, b)\n",
    "print('solução: ', solucao)\n"
   ]
  }
 ],
 "metadata": {
  "kernelspec": {
   "display_name": "Python 3",
   "language": "python",
   "name": "python3"
  },
  "language_info": {
   "codemirror_mode": {
    "name": "ipython",
    "version": 3
   },
   "file_extension": ".py",
   "mimetype": "text/x-python",
   "name": "python",
   "nbconvert_exporter": "python",
   "pygments_lexer": "ipython3",
   "version": "3.12.6"
  }
 },
 "nbformat": 4,
 "nbformat_minor": 2
}
