{
 "cells": [
  {
   "cell_type": "markdown",
   "metadata": {},
   "source": [
    "# Implementação do Algoritmo Simplex"
   ]
  },
  {
   "cell_type": "markdown",
   "metadata": {},
   "source": [
    "### Importação de bibliotecas"
   ]
  },
  {
   "cell_type": "code",
   "execution_count": 6,
   "metadata": {},
   "outputs": [],
   "source": [
    "import math\n",
    "import numpy as np\n",
    "import matplotlib.pyplot as plt"
   ]
  },
  {
   "cell_type": "markdown",
   "metadata": {},
   "source": [
    "### Inicialização do problema"
   ]
  },
  {
   "cell_type": "code",
   "execution_count": 16,
   "metadata": {},
   "outputs": [
    {
     "name": "stdout",
     "output_type": "stream",
     "text": [
      "[-1, 1, 1, 0, 0, 2]\n",
      "[1, 0, 0, 1, 0, 4]\n",
      "[0, 1, 0, 0, 1, 4]\n",
      "-------------------------\n",
      "[1, 1, 0, 0, 0, 0]\n",
      "-------------------------\n",
      "solution:  [np.float64(4.0), np.float64(4.0), np.float64(2.0), 0, 0, 0]\n"
     ]
    }
   ],
   "source": [
    "# Definição do problema de programação linear\n",
    "# coeficientes da função objetivo\n",
    "c = [1, 1, 0, 0, 0]\n",
    "\n",
    "# matriz de coeficientes das restrições\n",
    "A = [\n",
    "    [-1, 1, 1, 0, 0],\n",
    "    [ 1, 0, 0, 1, 0],\n",
    "    [ 0, 1, 0, 0, 1]\n",
    "]\n",
    "\n",
    "# vetor de termos independentes das restrições\n",
    "b = [2, 4, 4]\n",
    "\n",
    "\n",
    "\n",
    "def para_tableau(c, A, b):\n",
    "    # Combina cada equação (linha) de A com seu valor correspondente em b\n",
    "    # Isso cria as linhas iniciais do tableau (excluindo a linha da função objetivo)\n",
    "    xb = []\n",
    "    for equation, right_hand_side in zip(A, b):\n",
    "        tableau_row = equation + [right_hand_side]\n",
    "        print(tableau_row)\n",
    "        xb.append(tableau_row)\n",
    "    # Cria a linha da função objetivo para o tableau\n",
    "    # Adiciona um zero no final para representar o valor inicial da função objetivo\n",
    "    z = c + [0]\n",
    "\n",
    "    # Retorna o tableau completo\n",
    "    # Combina as linhas das restrições (xb) com a linha da função objetivo (z)\n",
    "    return xb + [z]\n",
    "\n",
    "def pode_ser_melhorado(tableau):\n",
    "    z = tableau[-1]\n",
    "    return any(x > 0 for x in z[:-1])\n",
    "\n",
    "def obter_posicao_pivo(tableau):\n",
    "    z = tableau[-1]\n",
    "    column = next(i for i, x in enumerate(z[:-1]) if x > 0)\n",
    "    \n",
    "    restrictions = []\n",
    "    for eq in tableau[:-1]:\n",
    "        el = eq[column]\n",
    "        restrictions.append(math.inf if el <= 0 else eq[-1] / el)\n",
    "\n",
    "    row = restrictions.index(min(restrictions))\n",
    "    return row, column\n",
    "\n",
    "def passo_pivo(tableau, pivot_position):\n",
    "    new_tableau = [[] for eq in tableau]\n",
    "    \n",
    "    i, j = pivot_position\n",
    "    pivot_value = tableau[i][j]\n",
    "    new_tableau[i] = np.array(tableau[i]) / pivot_value\n",
    "    \n",
    "    for eq_i, eq in enumerate(tableau):\n",
    "        if eq_i != i:\n",
    "            multiplier = np.array(new_tableau[i]) * tableau[eq_i][j]\n",
    "            new_tableau[eq_i] = np.array(tableau[eq_i]) - multiplier\n",
    "   \n",
    "    return new_tableau\n",
    "\n",
    "def eh_basica(column):\n",
    "    return sum(column) == 1 and len([c for c in column if c == 0]) == len(column) - 1\n",
    "\n",
    "def obter_solucao(tableau):\n",
    "    columns = np.array(tableau).T\n",
    "    solutions = []\n",
    "    for column in columns:\n",
    "        solution = 0\n",
    "        if eh_basica(column):\n",
    "            one_index = column.tolist().index(1)\n",
    "            solution = columns[-1][one_index]\n",
    "        solutions.append(solution)\n",
    "        \n",
    "    return solutions\n",
    "\n",
    "def simplex(c, A, b):\n",
    "    tableau = para_tableau(c, A, b)\n",
    "\n",
    "    while pode_ser_melhorado(tableau):\n",
    "        pivot_position = obter_posicao_pivo(tableau)\n",
    "        tableau = passo_pivo(tableau, pivot_position)\n",
    "\n",
    "    return obter_solucao(tableau)\n",
    "\n",
    "solucao = simplex(c, A, b)\n",
    "print('solução: ', solucao)\n"
   ]
  },
  {
   "cell_type": "markdown",
   "metadata": {},
   "source": [
    "# Problema Pratico\n",
    "-------------------------"
   ]
  },
  {
   "cell_type": "markdown",
   "metadata": {},
   "source": [
    "# Bandejao\n",
    "\n",
    "### -> Pratos\n",
    "#### P1: Arroz, Feijao, Arroz integral, Salada, File de Frango Empanado, Omelete de Brocolis, Creme de Milho \n",
    "#### P2: Arroz, Feijao, Arroz integral, Salada, Linguica Acebolada, Curry de Legumes, Farofa\n",
    "#### P3: Arroz, Feijao, Arroz integral, Salada, Bife ao Molho Ferrugem, Quibe de PVT, Pure misto com mandioquinha\n",
    "#### P4: Arroz, Feijao, Arroz integral, Salada, File de Frango ao molho Pomodoro, Ovo frito, Macarrao ao alho e oleo, \n",
    "### -----------------------------\n",
    "\n",
    "# ## -> Calorias\n",
    "| Alimento | Calorias (kcal/100g) | Proteína (g/100g) | Carboidrato (g/100g) |\n",
    "|----------|---------------------|-------------------|---------------------|\n",
    "| Arroz Branco | 128.6 | 2.69 | 27.9 | A\n",
    "| Arroz integral | 112 | 2.32 | 23.51 | AI\n",
    "| File de Frango Empanado | 250 | 25 | 15 | PA1\n",
    "| Feijao | 76 | 4.3 | 14 | F\n",
    "| Linguica Acebolada | 300 | 15 | 2 | PA2\n",
    "| Curry de Legumes | 120 | 3 | 20 | PV2\n",
    "| Bife ao Molho Ferrugem | 250 | 25 | 5 | PA3\n",
    "| Quibe de PVT | 180 | 15 | 25 | \n",
    "| Pure misto | 120 | 2 | 25 |\n",
    "| File de Frango Pomodoro | 200 | 25 | 5 |\n",
    "| Ovo frito | 150 | 13 | 1 |\n",
    "| Macarrao alho e oleo | 157 | 5.8 | 30.9 |\n",
    "| Salada | 25 | 1.5 | 5 |\n",
    "| Farofa | 400 | 1.2 | 85.1 |\n",
    "| Creme de Milho | 95 | 2.5 | 18.6 |\n",
    "| Omelete de Brocolis | 155 | 11.1 | 2.2 |\n",
    "### -----------------------------\n",
    "\n",
    "### -> Custo\n",
    "| Alimento | Custo (R$/100g) |\n",
    "|----------|----------------|\n",
    "| Arroz Branco | 0.80 |\n",
    "| Arroz integral | 1.20 |\n",
    "| File de Frango Empanado | 3.50 |\n",
    "| Feijao | 1.50 |\n",
    "| Linguica Acebolada | 4.00 |\n",
    "| Curry de Legumes | 2.00 |\n",
    "| Bife ao Molho Ferrugem | 5.00 |\n",
    "| Quibe de PVT | 2.50 |\n",
    "| Pure misto | 1.80 |\n",
    "| File de Frango Pomodoro | 3.50 |\n",
    "| Ovo frito | 1.00 |\n",
    "| Macarrao alho e oleo | 1.20 |\n",
    "| Salada | 1.00 |\n",
    "| Farofa | 1.50 |\n",
    "| Creme de Milho | 1.80 |\n",
    "| Omelete de Brocolis | 2.00 |\n",
    "### -----------------------------\n",
    "\n",
    "\n",
    "\n",
    "### -> Restricoes\n",
    "#### Menos que 800kcal\n",
    "#### Minimo de 60g Proteina\n",
    "#### Minimo de 120g Carboidrato\n",
    "### -----------------------------\n",
    "\n",
    "\n"
   ]
  },
  {
   "cell_type": "markdown",
   "metadata": {},
   "source": [
    "# Criando o Problema!"
   ]
  },
  {
   "cell_type": "markdown",
   "metadata": {},
   "source": [
    "## Minimizar o custo de uma semana\n",
    "### -> 2* CP1 + 1* CP2 + 2* CP3 + 1* CP4\n",
    "## Onde\n",
    "- P1 = Arroz Branco * (R$ 0.80) + Arroz integral * (R$ 1.20) + Feijao * (R$ 1.50) + Salada * (R$ 1.00) + File de Frango Empanado * (R$ 3.50) + Omelete de Brocolis * (R$ 2.00) + Creme de Milho * (R$ 1.80)\n",
    "- P2 = Arroz Branco * (R$ 0.80) + Arroz integral * (R$ 1.20) + Feijao * (R$ 1.50) + Salada * (R$ 1.00) + Linguica Acebolada * (R$ 4.00) + Curry de Legumes * (R$ 2.00) + Farofa * (R$ 1.50)\n",
    "- P3 = Arroz Branco * (R$ 0.80) + Arroz integral * (R$ 1.20) + Feijao * (R$ 1.50) + Salada * (R$ 1.00) + Bife ao Molho Ferrugem * (R$ 5.00) + Quibe de PVT * (R$ 2.50) + Pure misto * (R$ 1.80)\n",
    "- P4 = Arroz Branco * (R$ 0.80) + Arroz integral * (R$ 1.20) + Feijao * (R$ 1.50) + Salada * (R$ 1.00) + File de Frango Pomodoro * (R$ 3.50) + Ovo frito * (R$ 1.00) + Macarrao alho e oleo * (R$ 1.20)\n",
    "\n",
    "\n",
    "## Sujeito CP1a\n",
    "- Calorias <= 800kcal\n",
    "- Proteina >= 60g\n",
    "- Carboidrato >= 120g\n",
    "\n",
    "\n",
    "## Output:\n",
    "\n",
    "Quantidade(Coeficientes) de cada ingrediente para cada prato\n"
   ]
  },
  {
   "cell_type": "code",
   "execution_count": null,
   "metadata": {},
   "outputs": [],
   "source": []
  }
 ],
 "metadata": {
  "kernelspec": {
   "display_name": "Python 3",
   "language": "python",
   "name": "python3"
  },
  "language_info": {
   "codemirror_mode": {
    "name": "ipython",
    "version": 3
   },
   "file_extension": ".py",
   "mimetype": "text/x-python",
   "name": "python",
   "nbconvert_exporter": "python",
   "pygments_lexer": "ipython3",
   "version": "3.12.6"
  }
 },
 "nbformat": 4,
 "nbformat_minor": 2
}
