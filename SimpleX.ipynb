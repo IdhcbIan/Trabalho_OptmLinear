{
 "cells": [
  {
   "cell_type": "markdown",
   "metadata": {},
   "source": [
    "# Implementação do Algoritmo Simplex"
   ]
  },
  {
   "cell_type": "markdown",
   "metadata": {},
   "source": [
    "### Importação de bibliotecas"
   ]
  },
  {
   "cell_type": "code",
   "execution_count": 1,
   "metadata": {},
   "outputs": [],
   "source": [
    "import math\n",
    "import numpy as np\n",
    "import matplotlib.pyplot as plt"
   ]
  },
  {
   "cell_type": "markdown",
   "metadata": {},
   "source": [
    "### Inicialização do problema"
   ]
  },
  {
   "cell_type": "code",
   "execution_count": 10,
   "metadata": {},
   "outputs": [
    {
     "name": "stdout",
     "output_type": "stream",
     "text": [
      "[-1, 1, 1, 0, 0, 2]\n",
      "[1, 0, 0, 1, 0, 4]\n",
      "[0, 1, 0, 0, 1, 4]\n",
      "          x1      x2      x3      x4      x5     RHS\n",
      "    ------------------------------------------------\n",
      "R1:    -1.00    1.00    1.00    0.00    0.00    2.00\n",
      "R2:     1.00    0.00    0.00    1.00    0.00    4.00\n",
      "R3:     0.00    1.00    0.00    0.00    1.00    4.00\n",
      "z :     1.00    1.00    0.00    0.00    0.00    0.00\n",
      "\n",
      "solução:  [0, 0, np.int64(2), np.int64(4), np.int64(4), 0]\n"
     ]
    }
   ],
   "source": [
    "#Funcao para imprimir tableu\n",
    "def print_tableau(tableau):\n",
    "    rows = len(tableau)\n",
    "    cols = len(tableau[0])\n",
    "    \n",
    "    header = ['x' + str(i+1) for i in range(cols-1)] + ['RHS']\n",
    "    print('    ' + ''.join(f'{col:>8}' for col in header))\n",
    "    print('    ' + '-' * (8 * cols))\n",
    "    \n",
    "    for i in range(rows-1):\n",
    "        print(f'R{i+1}: ' + ''.join(f'{val:8.2f}' for val in tableau[i]))\n",
    "    \n",
    "    print('z : ' + ''.join(f'{val:8.2f}' for val in tableau[-1]))\n",
    "    print()\n",
    "\n",
    "\n",
    "\n",
    "# Definição do problema de programação linear\n",
    "# coeficientes da função objetivo\n",
    "c = [1, 1, 0, 0, 0]\n",
    "\n",
    "# matriz de coeficientes das restrições\n",
    "A = [\n",
    "    [-1, 1, 1, 0, 0],\n",
    "    [ 1, 0, 0, 1, 0],\n",
    "    [ 0, 1, 0, 0, 1]\n",
    "]\n",
    "\n",
    "# vetor de termos independentes das restrições\n",
    "b = [2, 4, 4]\n",
    "\n",
    "\n",
    "\n",
    "def para_tableau(c, A, b):\n",
    "    # Combina cada equação (linha) de A com seu valor correspondente em b\n",
    "    # Isso cria as linhas iniciais do tableau (excluindo a linha da função objetivo)\n",
    "    xb = []\n",
    "    for equacao, termo_independente in zip(A, b):\n",
    "        linha_tableau = equacao + [termo_independente]\n",
    "        print(linha_tableau)\n",
    "        xb.append(linha_tableau)\n",
    "    # Cria a linha da função objetivo para o tableau\n",
    "    # Adiciona um zero no final para representar o valor inicial da função objetivo\n",
    "    z = c + [0]\n",
    "\n",
    "    # Retorna o tableau completo\n",
    "    # Combina as linhas das restrições (xb) com a linha da função objetivo (z)\n",
    "    return xb + [z]\n",
    "\"\"\"\n",
    "def pode_melhorar(tableau):\n",
    "    print_tableau(tableau)\n",
    "    z = tableau[-1]\n",
    "    return any(x > 0 for x in z[:-1])\n",
    "\"\"\"\n",
    "\n",
    "def pode_melhorar(tableau):\n",
    "    z = tableau[-1]\n",
    "    found = False\n",
    "    for x in z[:-1]:\n",
    "        if x < 0:\n",
    "            found = True\n",
    "            break\n",
    "    return found\n",
    "\n",
    "\n",
    "def obter_posicao_pivo(tableau):\n",
    "    z = tableau[-1]\n",
    "    coluna = next(i for i, x in enumerate(z[:-1]) if x < 0)  # Changed from > to <\n",
    "    \n",
    "    restricoes = []\n",
    "    for eq in tableau[:-1]:\n",
    "        el = eq[coluna]\n",
    "        restricoes.append(math.inf if el <= 0 else eq[-1] / el)\n",
    "\n",
    "    linha = restricoes.index(min(restricoes))\n",
    "    return linha, coluna\n",
    "\n",
    "def passo_pivo(tableau, posicao_pivo):\n",
    "    novo_tableau = [[] for eq in tableau]\n",
    "    \n",
    "    i, j = posicao_pivo\n",
    "    valor_pivo = tableau[i][j]\n",
    "    novo_tableau[i] = np.array(tableau[i]) / valor_pivo\n",
    "    \n",
    "    for eq_i, eq in enumerate(tableau):\n",
    "        if eq_i != i:\n",
    "            multiplicador = np.array(novo_tableau[i]) * tableau[eq_i][j]\n",
    "            novo_tableau[eq_i] = np.array(tableau[eq_i]) - multiplicador\n",
    "   \n",
    "    return novo_tableau\n",
    "\n",
    "def eh_basica(coluna):\n",
    "    return sum(coluna) == 1 and len([c for c in coluna if c == 0]) == len(coluna) - 1\n",
    "\n",
    "def obter_solucao(tableau):\n",
    "    colunas = np.array(tableau).T\n",
    "    solucoes = []\n",
    "    for coluna in colunas:\n",
    "        solucao = 0\n",
    "        if eh_basica(coluna):\n",
    "            coluna_lista = coluna.tolist()\n",
    "            indice_um = coluna_lista.index(1)   # Encontrando o indice onde aparece o valor 1 na coluna e pegando o RHS\n",
    "            solucao = colunas[-1][indice_um]\n",
    "        solucoes.append(solucao)\n",
    "        \n",
    "    return solucoes\n",
    "\n",
    "def simplex(c, A, b):\n",
    "    tableau = para_tableau(c, A, b)\n",
    "    print_tableau(tableau)\n",
    "    while pode_melhorar(tableau):\n",
    "        posicao_pivo = obter_posicao_pivo(tableau)\n",
    "        tableau = passo_pivo(tableau, posicao_pivo)\n",
    "        print_tableau(tableau)\n",
    "\n",
    "    return obter_solucao(tableau)\n",
    "\n",
    "solucao = simplex(c, A, b)\n",
    "print('solução: ', solucao)\n",
    "\n",
    "\n",
    "\n"
   ]
  },
  {
   "cell_type": "code",
   "execution_count": 3,
   "metadata": {},
   "outputs": [
    {
     "name": "stdout",
     "output_type": "stream",
     "text": [
      "[1, -1, 1, 0, 1]\n",
      "[1, 2, 0, 1, 7]\n",
      "solução:  [np.float64(3.0), np.float64(2.0), 0, 0, 0]\n"
     ]
    }
   ],
   "source": [
    "# Objective function coefficients (c)\n",
    "c = [-2, -1, 0, 0]  # coefficients for [x₁, x₂, s₁, s₂]\n",
    "\n",
    "# Constraint coefficients matrix (A)\n",
    "A = [\n",
    "    [1, -1, 1, 0],  # x₁ - x₂ + s₁ = 1\n",
    "    [1,  2, 0, 1]   # x₁ + 2x₂ + s₂ = 7\n",
    "]\n",
    "\n",
    "# Right-hand side values (b)\n",
    "b = [1, 7]\n",
    "\n",
    "\n",
    "solucao = simplex(c, A, b)\n",
    "print('solução: ', solucao)"
   ]
  },
  {
   "cell_type": "markdown",
   "metadata": {},
   "source": [
    "## Problema Pratico"
   ]
  },
  {
   "cell_type": "code",
   "execution_count": 4,
   "metadata": {},
   "outputs": [
    {
     "name": "stdout",
     "output_type": "stream",
     "text": [
      "[1, -1, 1, 0, 1]\n",
      "[1, 2, 0, 1, 7]\n",
      "solução do problema prático:  [np.float64(3.0), np.float64(2.0), 0, 0, 0]\n"
     ]
    }
   ],
   "source": [
    "solucao = simplex(c, A, b)\n",
    "print('solução do problema prático: ', solucao)"
   ]
  },
  {
   "cell_type": "markdown",
   "metadata": {},
   "source": [
    "\n",
    "    Implicit Initial Basic Solution\n",
    "    The initial basic feasible solution is:\n",
    "\n",
    "    Set all original variables (x₁, x₂) to 0\n",
    "    Slack variables (x₃, x₄, x₅) take the values of the RHS (b vector)\n",
    "    This works because the slack variables form an identity matrix in the constraint matrix\n",
    "\n",
    "Important Note: This code assumes the problem is already in standard form and doesn't implement Phase I of the simplex method. It would need modification to handle:\n",
    "\n",
    "    Problems with ≥ constraints\n",
    "    Problems with negative RHS values\n",
    "    Problems requiring artificial variables\n",
    "\n",
    "To make this code more robust, you would need to add Phase I implementation to handle cases where an initial basic feasible solution isn't immediately available.\n"
   ]
  },
  {
   "cell_type": "code",
   "execution_count": 11,
   "metadata": {},
   "outputs": [
    {
     "name": "stdout",
     "output_type": "stream",
     "text": [
      "[1, 0, 1, 0, 2]\n",
      "[0, 1, 0, 1, 1]\n",
      "          x1      x2      x3      x4     RHS\n",
      "    ----------------------------------------\n",
      "R1:     1.00    0.00    1.00    0.00    2.00\n",
      "R2:     0.00    1.00    0.00    1.00    1.00\n",
      "z :    -3.00   -4.00    0.00    0.00    0.00\n",
      "\n",
      "          x1      x2      x3      x4     RHS\n",
      "    ----------------------------------------\n",
      "R1:     1.00    0.00    1.00    0.00    2.00\n",
      "R2:     0.00    1.00    0.00    1.00    1.00\n",
      "z :     0.00   -4.00    3.00    0.00    6.00\n",
      "\n",
      "          x1      x2      x3      x4     RHS\n",
      "    ----------------------------------------\n",
      "R1:     1.00    0.00    1.00    0.00    2.00\n",
      "R2:     0.00    1.00    0.00    1.00    1.00\n",
      "z :     0.00    0.00    3.00    4.00   10.00\n",
      "\n",
      "solução do problema prático:  [np.float64(2.0), np.float64(1.0), 0, 0, 0]\n"
     ]
    }
   ],
   "source": [
    "# Objective function coefficients (minimization, so we use negative values)\n",
    "c = [-3, -4, 0, 0]  # coefficients for [y₁, y₂, s₁, s₂]\n",
    "\n",
    "# Constraint matrix\n",
    "A = [\n",
    "    [1, 0, 1, 0],  # y₁ + s₁ = 2\n",
    "    [0, 1, 0, 1]   # y₂ + s₂ = 1\n",
    "]\n",
    "\n",
    "# RHS values\n",
    "b = [2, 1]\n",
    "\n",
    "solucao = simplex(c, A, b)\n",
    "print('solução do problema prático: ', solucao)"
   ]
  }
 ],
 "metadata": {
  "kernelspec": {
   "display_name": "Python 3",
   "language": "python",
   "name": "python3"
  },
  "language_info": {
   "codemirror_mode": {
    "name": "ipython",
    "version": 3
   },
   "file_extension": ".py",
   "mimetype": "text/x-python",
   "name": "python",
   "nbconvert_exporter": "python",
   "pygments_lexer": "ipython3",
   "version": "3.12.6"
  }
 },
 "nbformat": 4,
 "nbformat_minor": 2
}
