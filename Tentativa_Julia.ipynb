{
 "cells": [
  {
   "cell_type": "markdown",
   "id": "30def014",
   "metadata": {},
   "source": [
    "# Implementação do Algoritmo Simplex \n",
    "versão Julia"
   ]
  },
  {
   "cell_type": "code",
   "execution_count": 1,
   "id": "8b546827",
   "metadata": {},
   "outputs": [],
   "source": [
    "# Bibliotecas\n",
    "import math\n",
    "import numpy as np\n",
    "import matplotlib.pyplot as plt"
   ]
  },
  {
   "cell_type": "code",
   "execution_count": 2,
   "id": "d3ea1e47",
   "metadata": {},
   "outputs": [],
   "source": [
    "# Funcao para imprimir tableu\n",
    "def print_tableau(tableau):\n",
    "    lins = len(tableau)\n",
    "    cols = len(tableau[0])\n",
    "    \n",
    "    header =  ['x' + str(i+1) for i in range(cols-1)]\n",
    "    print('           ' + ''.join(f'{col:>8}' for col in header))\n",
    "    print('              ' + '-' * (7 * cols))\n",
    "    \n",
    "    print('F.O. ' + ''.join(f'{val:8.2f}' for val in tableau[0]))\n",
    "    for i in range(1,lins-1):\n",
    "        print(f'x{tableau[-1][i-1]+1} = ' + ''.join(f'{val:8.2f}' for val in tableau[i]))\n",
    "    \n",
    "    print()\n",
    "\n",
    "# Imprime somente a matriz A\n",
    "def print_matrix(matrix):\n",
    "    for linha in matrix:\n",
    "        print(''.join(f'{val:8.2f}' for val in linha))"
   ]
  },
  {
   "cell_type": "markdown",
   "id": "d2be7484",
   "metadata": {},
   "source": [
    "# Fase 1: obter solução básica viável"
   ]
  },
  {
   "cell_type": "code",
   "execution_count": 3,
   "id": "5115c19f",
   "metadata": {},
   "outputs": [],
   "source": [
    "# Procura alguma coluna da matriz Identidade\n",
    "def eh_basica(coluna):\n",
    "    return sum(coluna) == 1 and len([c for c in coluna if c == 0]) == len(coluna) - 1\n",
    "\n",
    "# Retorna o indice onde esta \"1\"\n",
    "def get_one(vector):\n",
    "    for i in range(len(vector)):\n",
    "        if vector[i] == 1:\n",
    "            return i\n",
    "\n",
    "# Funcao que guarda o indice das variaveis basicas\n",
    "# associado a coluna da matriz identidade\n",
    "def basicas(A):\n",
    "    id = [0] * len(A)       # coluna da identidade\n",
    "    i_B = [-1] * len(A)     # indice da variavel\n",
    "    colunas = np.array(A).T\n",
    "    for coluna in range(0, len(colunas)):\n",
    "        if eh_basica(colunas[coluna]) and id[get_one(colunas[coluna])] == 0:\n",
    "            i_B[get_one(colunas[coluna])]= coluna\n",
    "            id[get_one(colunas[coluna])] = 1\n",
    "    return id, i_B\n",
    "# OBS: quando escreve basicas(A)[0] --> acessa quais colunas\n",
    "#                     basicas(A)[1] --> acessa os indices (-1) das basicas\n",
    "\n",
    "def fase1(c, A, b):\n",
    "    # Verifica se é necessario adicionar variaveis artificiais\n",
    "    tem_sol_basica = any(x == -1 for x in basicas(A)[1])\n",
    "    if not tem_sol_basica:\n",
    "        d = False\n",
    "        return c, A, b, d\n",
    " \n",
    "    # Se nessesario multiplicar a linha por -1 para que\n",
    "    # os termos independentes sejam nao negativos\n",
    "    for linha in range(0, len(b)):\n",
    "        if b[linha] < 0:\n",
    "            A[linha] = -A[linha]\n",
    "            b[linha] = -b[linha]   \n",
    "\n",
    "    # Custos da nova funcao\n",
    "    c1 = [0] * len(c)    # zero para as variaveis originais\n",
    "    id = basicas(A)[0]\n",
    "    for i in range(0, len(id)):\n",
    "        if id[i] == 0:\n",
    "            coluna = [0] * len(id)\n",
    "            coluna[i] = 1\n",
    "            for linha in range(0, len(A)):\n",
    "                A[linha].append(coluna[linha])\n",
    "            c1.append(1)  # um para as variaveis artificiais\n",
    "    \n",
    "    # se precisou adicionar variaveis\n",
    "    d = True\n",
    "    \n",
    "    return c1, A, b, d"
   ]
  },
  {
   "cell_type": "markdown",
   "id": "a4d2016d",
   "metadata": {},
   "source": [
    "A fase 1 deve retornar um Tableau !!\n",
    "\n",
    "Usamos somente as colunas:\n",
    "\n",
    "    - da funcao objetivo e valores das basicas\n",
    "    - das variaveis originais\n",
    "    \n",
    "OBS: se a solucao encontrada for degenerada entao excluimos a linha de zeros"
   ]
  },
  {
   "cell_type": "code",
   "execution_count": 4,
   "id": "849d7b11",
   "metadata": {},
   "outputs": [],
   "source": [
    "# Reorganiza o tableau\n",
    "def resultado_fase1(tableau):\n",
    "    # mantem as colunas das variaveis originais\n",
    "    qtdd_colunas = len(tableau[-1])\n",
    "    \n",
    "    novo_A = []\n",
    "    novo_b = []\n",
    "    \n",
    "    # mantem as linhas das variaveis basicas originais\n",
    "    for i, xB in enumerate(tableau[-1]):\n",
    "        if xB < qtdd_colunas:\n",
    "            novo_A.append(tableau[i+1][1:qtdd_colunas+1])\n",
    "            novo_b.append(tableau[i+1][0])\n",
    "    return novo_A, novo_b"
   ]
  },
  {
   "cell_type": "markdown",
   "id": "85c6f58d",
   "metadata": {},
   "source": [
    "# Fase 2: Aplicar Método Simplex"
   ]
  },
  {
   "cell_type": "markdown",
   "id": "6f23015b",
   "metadata": {},
   "source": [
    "## Tableau Inicial \n",
    "\n",
    "Estamos assumindo que para montar o Tableau está sendo passada uma matriz A que contenha todas as colunas da identidade necessarias para obter uma solucao basica viável.\n",
    "\n",
    "OBS: garantimos isso pois antes todos os problemas passam pela fase 1\n"
   ]
  },
  {
   "cell_type": "code",
   "execution_count": 5,
   "id": "50fbbb5b",
   "metadata": {},
   "outputs": [],
   "source": [
    "# Monta o Tableau Inicial\n",
    "def tableau_inicial(c, A, b):\n",
    "    linhas_tableau = []\n",
    "    \n",
    "    # guarda as basicas\n",
    "    identidade, indice_basicas = basicas(A)\n",
    "    \n",
    "    # funcao objetivo e custos reduzidos\n",
    "    funcao_obj = (-1) * sum(b)\n",
    "    custos = []\n",
    "    for j in range(len(A[0])):\n",
    "        if j not in indice_basicas:\n",
    "            c_j = 0\n",
    "            for i in range(len(A)):\n",
    "                c_j += A[i][j]\n",
    "            custos.append((-1)*c_j)\n",
    "        else: \n",
    "            custos.append(0)\n",
    "    \n",
    "    linhas_tableau.append([funcao_obj]+custos)  # linha 0\n",
    "\n",
    "    # Concatena linhas de A com linhas de b\n",
    "    for i in range(len(b)):\n",
    "        linha = [b[i]] + A[i]\n",
    "        #print(\"The linha is: \",linha)\n",
    "        linhas_tableau.append(linha)\n",
    "\n",
    "    print(\"+++++++++++++++\")\n",
    "\n",
    "    # indice das variaveis basicas\n",
    "    linhas_tableau.append(indice_basicas)  # ultima linha\n",
    "    return linhas_tableau\n",
    "        "
   ]
  },
  {
   "cell_type": "code",
   "execution_count": 6,
   "id": "01dee2ed",
   "metadata": {},
   "outputs": [],
   "source": [
    "# Verifica se tem algum custo reduzido negativo\n",
    "def nao_otima(tableau):\n",
    "    return any(c < 0 for c in tableau[0][1:])\n",
    "\n",
    "# Define elemento pivo\n",
    "def posicao_pivo(tableau):\n",
    "    custos = tableau[0]\n",
    "    # Escolhe o primeiro custo reduzido negativo\n",
    "    # \"xj entra na base\"\n",
    "    for j in range(1,len(custos)):\n",
    "        if custos[j] < 0:\n",
    "            coluna_pivo = j\n",
    "            break\n",
    "\n",
    "    theta = []\n",
    "    for linha_i in range (1,len(tableau)-1):\n",
    "        if tableau[linha_i][coluna_pivo] <= 0:\n",
    "            theta.append(math.inf)\n",
    "        else:\n",
    "            theta.append(tableau[linha_i][0] / tableau[linha_i][coluna_pivo])\n",
    "        \n",
    "    # Escolhe o menor indice das variaveis que podem sair da base\n",
    "    # soma um porque estamos ignorando a linha de custos\n",
    "    linha_pivo = theta.index(min(theta)) + 1\n",
    "    \n",
    "    return linha_pivo, coluna_pivo\n",
    "\n",
    "# Atualiza o tableau com base no pivo encontrado\n",
    "def atualiza_tableau(tableau, pivo):\n",
    "    i, j = pivo\n",
    "    valor_pivo = tableau[i][j]\n",
    "    \n",
    "    # Divide a linha do pivo para que o valor do pivo seja 1\n",
    "    tableau[i] = np.array(tableau[i]) / valor_pivo\n",
    "    \n",
    "    # Atualiza os valores de dentro do tableau\n",
    "    # ou seja, zera os outros elementos da coluna\n",
    "    for linha in range (len(tableau)-1):\n",
    "        if linha != i:\n",
    "            multiplicador = (-1) * tableau[linha][j]\n",
    "            tableau[linha] = multiplicador*tableau[i] + tableau[linha]\n",
    "   \n",
    "    # Atualiza variaveis básicas\n",
    "    tableau[-1][i-1] = j-1 \n",
    "\n",
    "    return tableau\n",
    "\n",
    "def otima(tableau):\n",
    "    # inicia com todos valendo zero\n",
    "    solucoes = [0] * len(tableau[0]-1)\n",
    "    \n",
    "    # coloca o valor das basicas na posicao correta da solucao\n",
    "    for i, xB in enumerate(tableau[-1]):\n",
    "        solucoes[xB] = tableau[i+1][0]\n",
    "        \n",
    "    return solucoes        \n",
    "    "
   ]
  },
  {
   "cell_type": "code",
   "execution_count": 7,
   "id": "2e9a2db2",
   "metadata": {},
   "outputs": [],
   "source": [
    "# SIMPLEX para resolver FASE 1\n",
    "def simplex(c, A, b,d):\n",
    "    tableau = tableau_inicial(c, A, b)\n",
    "    #print(\"Tableau inicial: \")\n",
    "    #print_tableau(tableau)\n",
    "    \n",
    "    while nao_otima(tableau):\n",
    "        pivo = posicao_pivo(tableau)\n",
    "        tableau = atualiza_tableau(tableau, pivo)\n",
    "        #print(\"Tableau atualizado: \")\n",
    "        #print_tableau(tableau)\n",
    "    \n",
    "    if d:\n",
    "        novo_A, novo_b = resultado_fase1(tableau)\n",
    "        return novo_A, novo_b\n",
    "    \n",
    "    else:\n",
    "        return A, otima(tableau)    "
   ]
  },
  {
   "cell_type": "markdown",
   "id": "a67336eb",
   "metadata": {},
   "source": [
    "# Testando exemplo dos slides aula 23 #\n",
    "Solucão básica viável para iniciar o simplex:\n",
    "(x1,x2,x3,x4) = (1 ; 1/2 ; 1/3 ; 0) e zero nas variaveis a mais\n",
    "\n",
    "Problema: A tem linhas LD --> sol. encontrada na fase 1 é degenerada"
   ]
  },
  {
   "cell_type": "code",
   "execution_count": 8,
   "id": "0f8eda25",
   "metadata": {},
   "outputs": [],
   "source": [
    "# Coeficientes da função objetivo\n",
    "c = [1, 1, 1, 0]\n",
    "\n",
    "# Matriz de coeficientes das restrições\n",
    "A = [\n",
    "    [1, 2, 3, 0],\n",
    "    [-1, 2, 6, 0],\n",
    "    [0, 4, 9, 0],\n",
    "    [0, 0, 3, 1]\n",
    "]\n",
    "\n",
    "# Vetor de termos independentes das restrições\n",
    "b = [3, 2, 5, 1]"
   ]
  },
  {
   "cell_type": "code",
   "execution_count": 9,
   "id": "58d883cf",
   "metadata": {},
   "outputs": [],
   "source": [
    "def get_solution_simplex(c, A, b):\n",
    "\n",
    "    c1, A1, b1, d = fase1(c, A, b)\n",
    "\n",
    "    # Caso seja necessario usar variaveis artificiais\n",
    "    if d:\n",
    "        print(\"Simplex FASE 1: \")\n",
    "        A2, b2 = simplex(c1,A1,b1,d)\n",
    "        print(\"Resultado da fase 1: \",b2)\n",
    "        \n",
    "        # Convertendo tudo para mesmo formato que o simplex\n",
    "        A2 = [[float(x) for x in row] for row in A2]\n",
    "        b2 = [float(x) for x in b2] \n",
    "        fA, fb = simplex(c, A2, b2,0)\n",
    "        print(\"Resultado da fase 2: \",fb)\n",
    "    else:\n",
    "        A2, b2 = simplex(c1, A1, b1,d)\n",
    "        print(\"Nao Foi nessesario usar a fase 1!!\")\n",
    "        print(\"Resultado da fase 2: \", b2)"
   ]
  },
  {
   "cell_type": "code",
   "execution_count": 10,
   "id": "ec0df001",
   "metadata": {},
   "outputs": [
    {
     "name": "stdout",
     "output_type": "stream",
     "text": [
      "Simplex FASE 1: \n",
      "+++++++++++++++\n",
      "Resultado da fase 1:  [np.float64(1.0), np.float64(0.5), np.float64(0.3333333333333333)]\n",
      "+++++++++++++++\n",
      "Resultado da fase 2:  [np.float64(0.5), np.float64(1.25), 0, np.float64(1.0), 0]\n"
     ]
    }
   ],
   "source": [
    "get_solution_simplex(c, A, b)\n"
   ]
  },
  {
   "cell_type": "code",
   "execution_count": 11,
   "id": "2eba9081",
   "metadata": {},
   "outputs": [
    {
     "name": "stdout",
     "output_type": "stream",
     "text": [
      "+++++++++++++++\n",
      "Nao Foi nessesario usar a fase 1!!\n",
      "Resultado da fase 2:  [np.float64(3.0), np.float64(2.0), 0, 0, 0]\n"
     ]
    }
   ],
   "source": [
    "\n",
    "# Objective function coefficients (minimization, so we use negative values)\n",
    "c = [-2, -1, 0, 0]  # coefficients for [y₁, y₂, s₁, s₂]\n",
    "\n",
    "# Constraint matrix\n",
    "A = [\n",
    "    [-1, 1, 1, 0],  \n",
    "    [1, 2, 0, 1]   \n",
    "]\n",
    "\n",
    "# RHS values\n",
    "b = [-1, 7]\n",
    "\n",
    "get_solution_simplex(c, A, b)"
   ]
  },
  {
   "cell_type": "code",
   "execution_count": null,
   "id": "950bd110",
   "metadata": {},
   "outputs": [],
   "source": []
  }
 ],
 "metadata": {
  "kernelspec": {
   "display_name": "Python 3 (ipykernel)",
   "language": "python",
   "name": "python3"
  },
  "language_info": {
   "codemirror_mode": {
    "name": "ipython",
    "version": 3
   },
   "file_extension": ".py",
   "mimetype": "text/x-python",
   "name": "python",
   "nbconvert_exporter": "python",
   "pygments_lexer": "ipython3",
   "version": "3.12.6"
  }
 },
 "nbformat": 4,
 "nbformat_minor": 5
}
