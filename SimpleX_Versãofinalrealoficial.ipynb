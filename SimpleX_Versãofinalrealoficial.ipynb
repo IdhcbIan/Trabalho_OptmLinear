{
 "cells": [
  {
   "cell_type": "markdown",
   "id": "773b44cf",
   "metadata": {},
   "source": [
    "# Implementação do Algoritmo Simplex "
   ]
  },
  {
   "cell_type": "markdown",
   "id": "985ba1ef",
   "metadata": {},
   "source": [
    "## Descrição Geral\n",
    "Este notebook apresenta uma implementação do algoritmo simplex.\n",
    "\n",
    "---\n",
    "\n",
    "### **Informações dos Autores**\n",
    "- **Autores - Numero Usp**  \n",
    "\n",
    "    Cody Stefano Barham Setti – 4856322\n",
    "\n",
    "    Ian de Holanda Cavalcanti Bezerra – 13835412\n",
    "                \n",
    "    Julia Graziosi Ortiz – 11797810\n",
    "                \n",
    "    Katlyn Ribeiro Almeida – 14586070\n",
    "                \n",
    "    Matheus Araujo Pinheiro – 14676810\n",
    "---\n",
    "\n",
    "### **Objetivos**\n",
    "O objetivo deste trabalho foi implementar o algoritmo simplex na linguagem de programação Python e\n",
    "resolver com tal implementação uma gama de problemas de otimização linear.\n",
    "\n",
    "---\n",
    "\n",
    "### **Ferramentas e Bibliotecas Utilizadas**\n",
    "Linguagem e bibliotecas específicas: como Python; NumPy, Math, Time:\n",
    "\n",
    "---"
   ]
  },
  {
   "cell_type": "code",
   "execution_count": 1,
   "id": "92a7535d",
   "metadata": {},
   "outputs": [],
   "source": [
    "# Bibliotecas\n",
    "import math\n",
    "import numpy as np\n",
    "import time"
   ]
  },
  {
   "cell_type": "markdown",
   "id": "d807f7d4",
   "metadata": {},
   "source": [
    "---\n",
    "\n",
    "### **Organização**\n",
    "1. **Obter solução básica viável** \n",
    "2. **Aplicar Método Simplex:** \n",
    "3. **Simplex de duas fases:** \n",
    "4. **Testando alguns exemplos:**\n",
    "\n",
    "---"
   ]
  },
  {
   "cell_type": "markdown",
   "id": "701d8887",
   "metadata": {},
   "source": [
    "## 1- Fase 1: Obter solução básica viável\n",
    "Funções auxiliares para encontrar variáveis básicas:"
   ]
  },
  {
   "cell_type": "code",
   "execution_count": 2,
   "id": "db866c44",
   "metadata": {},
   "outputs": [],
   "source": [
    "# Verifica se uma coluna é uma coluna da matriz identidade.\n",
    "# Uma coluna é da identidade se a soma dos elementos é 1 e \n",
    "# contém exatamente um '1' e o restante '0's.\n",
    "def eh_basica(coluna):\n",
    "    return sum(coluna) == 1 and len([c for c in coluna if c == 0]) == len(coluna) - 1"
   ]
  },
  {
   "cell_type": "code",
   "execution_count": 3,
   "id": "17b344da",
   "metadata": {},
   "outputs": [],
   "source": [
    "# Retorna o índice da posição onde existe o valor '1' do vetor.\n",
    "# Utilizado para identificar as variáveis básicas no tableau.\n",
    "def get_one(vector):\n",
    "    for i in range(len(vector)):\n",
    "        if vector[i] == 1:\n",
    "            return i"
   ]
  },
  {
   "cell_type": "code",
   "execution_count": 4,
   "id": "1705ced6",
   "metadata": {},
   "outputs": [],
   "source": [
    "# Verifica se um elemento é considerado zero, dentro de uma tolerância (10e-4).\n",
    "# Isso é necessário para evitar problemas de precisão em cálculos numéricos.\n",
    "def is_zero(element):\n",
    "    return abs(element) <= 10e-4"
   ]
  },
  {
   "cell_type": "code",
   "execution_count": 5,
   "id": "1ed33a63",
   "metadata": {},
   "outputs": [],
   "source": [
    "# Identifica as variáveis básicas e associa o índice das colunas que correspondem \n",
    "# a colunas da matriz identidade.\n",
    "# Retorna:\n",
    "# - `id`: um vetor identidade indicando se uma linha contém uma variável básica.\n",
    "# - `i_B`: vetor contendo os índices das colunas que são variáveis básicas, ou -1 se não forem.\n",
    "def basicas(A):\n",
    "    id = [0] * len(A)       # Marca quais linhas já possuem variáveis básicas.\n",
    "    i_B = [-1] * len(A)     # Índices das colunas básicas.\n",
    "    colunas = np.array(A).T # Transpõe a matriz A para acessar as colunas.\n",
    "    for coluna in range(0, len(colunas)):\n",
    "        if eh_basica(colunas[coluna]) and id[get_one(colunas[coluna])] == 0:\n",
    "            i_B[get_one(colunas[coluna])]= coluna\n",
    "            id[get_one(colunas[coluna])] = 1\n",
    "    return id, i_B\n",
    "# OBS: quando escreve basicas(A)[0] --> acessa quais colunas\n",
    "#                     basicas(A)[1] --> acessa os indices (-1) das basicas"
   ]
  },
  {
   "cell_type": "markdown",
   "id": "64567e66",
   "metadata": {},
   "source": [
    "Verifica se é necessário adicionar variáveis artificiais:\n",
    "\n",
    "- se sim, então retorna os coeficientes do novo problema (minimizar o custo das artificiais)\n",
    "- se não, então o problema segue o mesmo"
   ]
  },
  {
   "cell_type": "code",
   "execution_count": 6,
   "id": "c63de54f",
   "metadata": {},
   "outputs": [],
   "source": [
    "# Implementa a Fase 1 do método simplex. Adiciona variáveis artificiais para garantir uma solução viável.\n",
    "# Se as variáveis artificiais forem necessárias, elas são adicionadas às restrições e seus custos são definidos como 1.\n",
    "# Retorna:\n",
    "# - Custos atualizados (incluindo artificiais, se necessário).\n",
    "# - Matriz A e vetor b modificados.\n",
    "# - Um flag `d` indicando se variáveis artificiais foram adicionadas.\n",
    "def fase1(c, A, b):\n",
    "    nvar = len(A[0])\n",
    "    d = (False, nvar)\n",
    "    \n",
    "    # Verifica se é necessario adicionar variaveis artificiais\n",
    "    sol_basica = any(x == -1 for x in basicas(A)[1])\n",
    "    if not sol_basica:\n",
    "        d = (False, nvar)\n",
    "        return c, A, b, d\n",
    "\n",
    "    # Custos da nova função\n",
    "    # Zero para as variáveis originais\n",
    "    # E um para as variáveis artificiais\n",
    "    c1 = [0] * len(c)\n",
    "    id = basicas(A)[0]\n",
    "    for i in range(0, len(id)):\n",
    "        if id[i] == 0:\n",
    "            coluna = [0] * len(id)\n",
    "            coluna[i] = 1\n",
    "            for linha in range(0, len(A)):\n",
    "                A[linha].append(coluna[linha])\n",
    "            c1.append(1)\n",
    "\n",
    "    # Flag se precisou adicionar variaveis\n",
    "    d = (True, nvar)\n",
    "\n",
    "    return c1, A, b, d"
   ]
  },
  {
   "cell_type": "markdown",
   "id": "a1149603",
   "metadata": {},
   "source": [
    "##### Resultado da fase 1\n",
    "Problema com variáveis artificiais: com os novos coeficientes, aplicamos o Simplex. A solução ótima da fase 1 nos dá uma solução básica viável do problema original. \n",
    "\n",
    "O tableau final da fase 1 é utilizado como base para retornar ao problema original. As colunas usadas são:\n",
    "\n",
    "    - da funcao objetivo e valores das basicas\n",
    "    - das variaveis originais\n",
    "    \n",
    "Antes, verificamos se:\n",
    "\n",
    "- temos restrições LD\n",
    "- a solução é degenerada\n",
    "- o problema é infactível (função objetivo diferente de zero)"
   ]
  },
  {
   "cell_type": "code",
   "execution_count": 7,
   "id": "fd710ff0",
   "metadata": {},
   "outputs": [],
   "source": [
    "# Ajusta o tableau para retornar ao problema original após a Fase 1.\n",
    "# Remove as variáveis artificiais do tableau.\n",
    "# Retorna a matriz A e o vetor b ajustados para a Fase 2.\n",
    "def resultado_fase1(tableau, nvar):\n",
    "    # Mantem as colunas das variaveis originais\n",
    "    if not is_zero(tableau[0][0]):\n",
    "        return None, None\n",
    "\n",
    "    qtdd_colunas = nvar + 1\n",
    "\n",
    "    # Verifica se o tableau tem dimensões válidas\n",
    "    if len(tableau) < 2:\n",
    "        return None, None\n",
    "\n",
    "    # Obtem os indices das variaveis basicas\n",
    "    basic_vars = tableau[-1] if len(tableau[-1]) > 0 else []\n",
    "    novo_A = []\n",
    "    novo_b = []\n",
    "\n",
    "    # Processa cada linha, exceto a primeira (custos) e a última (indices)\n",
    "    for basica in range(1, len(tableau)-1):\n",
    "        if basica < len(tableau) and basica < len(basic_vars) and basic_vars[basica] > nvar-1:\n",
    "            for j in range(1, nvar+1):\n",
    "                if j < len(tableau[basica]) and not is_zero(tableau[basica][j]):\n",
    "                    tableau = atualiza_tableau(tableau, (basica, j))\n",
    "\n",
    "    # Mantem as linhas das variaveis basicas originais\n",
    "    if len(basic_vars) > 0:\n",
    "        for i, xB in enumerate(basic_vars):\n",
    "            if i+1 < len(tableau) and xB < qtdd_colunas:\n",
    "                row = tableau[i+1]\n",
    "                if len(row) >= qtdd_colunas:\n",
    "                    novo_A.append(row[1:qtdd_colunas])\n",
    "                    novo_b.append(row[0])\n",
    "\n",
    "    return novo_A, novo_b"
   ]
  },
  {
   "cell_type": "markdown",
   "id": "e7ac187b",
   "metadata": {},
   "source": [
    "## 2- Fase 2: Aplicar Método Simplex"
   ]
  },
  {
   "cell_type": "markdown",
   "id": "f2556b9a",
   "metadata": {},
   "source": [
    "##### Tableau Inicial \n",
    "\n",
    "Para montar o tableau a matriz A deve conter todas as colunas da identidade necessárias para obter uma solução básica viável. Garantimos isso pois todos os problemas passam pela fase 1."
   ]
  },
  {
   "cell_type": "code",
   "execution_count": 8,
   "id": "0d397ceb",
   "metadata": {},
   "outputs": [],
   "source": [
    "# Constrói o tableau inicial do método simplex.\n",
    "# Inclui a linha de custos reduzidos, restrições e índices das variáveis básicas.\n",
    "# Retorna o tableau inicial.\n",
    "def tableau_inicial(c, A, b):\n",
    "    # Encontra as variáveis básicas\n",
    "    identidade, indice_basicas = basicas(A)\n",
    "    \n",
    "    # LZ: linha zero, contem o valor da função objetivo (fo) seguido pelos custos reduzidos\n",
    "    # Função objetivo\n",
    "    fo = -sum(b[i] * c[indice_basicas[i]] for i in range(len(b)))\n",
    "    \n",
    "    # Custos reduzidos\n",
    "    cr = [ c[i] - sum(A[j][i] * c[indice_basicas[j]] \n",
    "            for j in range(len(A))) if i not in indice_basicas else 0\n",
    "            for i in range(len(A[0]))\n",
    "         ]\n",
    "    lz = [fo] + cr\n",
    "    \n",
    "    # Próximas linhas do tableau: b | A\n",
    "    linhas = [[b[i]] + A[i] for i in range(len(b))]\n",
    "    \n",
    "    # Inclui o indice das basicas na ultima linha do tableau\n",
    "    return [lz] + linhas + [indice_basicas]"
   ]
  },
  {
   "cell_type": "markdown",
   "id": "8c3aa86f",
   "metadata": {},
   "source": [
    "Funções auxiliares para atualizar o tableau:"
   ]
  },
  {
   "cell_type": "code",
   "execution_count": 9,
   "id": "ac36484b",
   "metadata": {},
   "outputs": [],
   "source": [
    "# Verifica se o tableau atual ainda contém custos reduzidos negativos.\n",
    "# Retorna True se a solução não é ótima, caso contrário False.\n",
    "def nao_otima(tableau):\n",
    "    return any(c < 0 for c in tableau[0][1:])"
   ]
  },
  {
   "cell_type": "code",
   "execution_count": 10,
   "id": "a570879d",
   "metadata": {},
   "outputs": [],
   "source": [
    "# Determina a posição do pivô para atualização do tableau.\n",
    "# Identifica qual variável entra e qual sai da base.\n",
    "def posicao_pivo(tableau):\n",
    "    custos = tableau[0]\n",
    "    \n",
    "    # Escolhe o primeiro custo reduzido negativo (quem entra na base)\n",
    "    for j in range(1,len(custos)):\n",
    "        if custos[j] < 0:\n",
    "            coluna_pivo = j\n",
    "            break\n",
    "\n",
    "    theta = []\n",
    "    for linha_i in range (1,len(tableau)-1):\n",
    "        if tableau[linha_i][coluna_pivo] <= 0:\n",
    "            theta.append(math.inf)\n",
    "        else:\n",
    "            theta.append(tableau[linha_i][0] / tableau[linha_i][coluna_pivo])\n",
    "    \n",
    "    # Verifica se o problema é ilimitado\n",
    "    if set(theta) == {math.inf}:\n",
    "        print(\"Problema ilimitado\")\n",
    "        return None, None\n",
    "\n",
    "    # Escolhe quem sai da base (menor indice)\n",
    "    # Soma um porque estamos ignorando a linha de custos\n",
    "    linha_pivo = theta.index(min(theta)) + 1\n",
    "    \n",
    "    return linha_pivo, coluna_pivo"
   ]
  },
  {
   "cell_type": "code",
   "execution_count": 11,
   "id": "d3b336ea",
   "metadata": {},
   "outputs": [],
   "source": [
    "# Atualiza o tableau com base no pivô escolhido.\n",
    "# Realiza operações de linha para garantir que o pivô se torne 1 e zera os demais elementos na coluna.\n",
    "def atualiza_tableau(tableau, pivo):\n",
    "    i, j = pivo\n",
    "    valor_pivo = tableau[i][j]\n",
    "    \n",
    "    # Divide a linha do pivo para que o valor do pivo seja 1\n",
    "    tableau[i] = np.array(tableau[i]) / valor_pivo\n",
    "    \n",
    "    # Atualiza os valores de dentro do tableau\n",
    "    # (zera os outros elementos da coluna do pivo)\n",
    "    for linha in range (len(tableau)-1):\n",
    "        if linha != i:\n",
    "            multiplicador = (-1) * tableau[linha][j]\n",
    "            tableau[linha] = multiplicador*tableau[i] + tableau[linha]\n",
    "\n",
    "            tableau[linha] = np.array([0 if is_zero(x) else x for x in list(tableau[linha])])\n",
    "   \n",
    "    # Atualiza variaveis básicas\n",
    "    tableau[-1][i-1] = j-1 \n",
    "\n",
    "    return tableau "
   ]
  },
  {
   "cell_type": "markdown",
   "id": "2881d617",
   "metadata": {},
   "source": [
    " ##### Simplex  e  Solução ótima\n",
    " Funções auxiliares para o simplex de duas fases:"
   ]
  },
  {
   "cell_type": "code",
   "execution_count": 12,
   "id": "854399b7",
   "metadata": {},
   "outputs": [],
   "source": [
    "# Obtém a solução ótima do problema a partir do tableau final.\n",
    "# Retorna o vetor solução contendo os valores das variáveis básicas.\n",
    "def otima(tableau, nvar):\n",
    "    solucoes = [0] * nvar  # Inicia com todos valendo zero\n",
    "    \n",
    "    # Coloca o valor das basicas na posicao correta da solucao\n",
    "    for i, xB in enumerate(tableau[-1]):\n",
    "        solucoes[xB] = tableau[i+1][0]\n",
    "        \n",
    "    return solucoes "
   ]
  },
  {
   "cell_type": "code",
   "execution_count": 13,
   "id": "c0fda3c0",
   "metadata": {},
   "outputs": [],
   "source": [
    "# Implementa o método simplex para resolver problemas de programação linear.\n",
    "# Retorna a solução ótima ou informa se o problema é ilimitado ou infactível.\n",
    "def simplex(c, A, b, d):\n",
    "    tableau = tableau_inicial(c, A, b)\n",
    "    nvar = d[1]\n",
    "    it = 0\n",
    "    \n",
    "    while nao_otima(tableau) and it < 10000:\n",
    "        it = it +1\n",
    "        pivo = posicao_pivo(tableau)\n",
    "        if pivo == (None, None):\n",
    "            return None, None\n",
    "        tableau = atualiza_tableau(tableau, pivo)\n",
    "\n",
    "    # Iterações\n",
    "    if d[0]:\n",
    "        print(\"Iterações da fase 1: \",it)\n",
    "    else:\n",
    "        print(\"Iterações da fase 2: \",it)  \n",
    "    if it == 10000:\n",
    "        print(\"Max Iteracoes atingida\")\n",
    "        return None, None\n",
    "\n",
    "    # Se estamos na Fase 1 retorna um tableau\n",
    "    if d[0]:\n",
    "        novo_A, novo_b = resultado_fase1(tableau, nvar)\n",
    "        return novo_A, novo_b\n",
    "    # Se estamos na Fase 2 retorna a solução ótima\n",
    "    else:\n",
    "        return A, otima(tableau, nvar) "
   ]
  },
  {
   "cell_type": "markdown",
   "id": "eeacb86f",
   "metadata": {},
   "source": [
    "## 3- Simplex de duas fases:"
   ]
  },
  {
   "cell_type": "code",
   "execution_count": 14,
   "id": "4b4b7cae",
   "metadata": {},
   "outputs": [],
   "source": [
    "# Resolve um problema de programação linear utilizando o método simplex,\n",
    "# começando pela Fase 1 se necessário.\n",
    "def get_solution_simplex(c, A, b):\n",
    "    inicio = time.time()\n",
    "    nvar = len(A[0])\n",
    "    c1, A1, b1, d = fase1(c, A, b)\n",
    "\n",
    "    # Caso seja necessario usar variaveis artificiais (Fase 1)\n",
    "    if d[0]:\n",
    "        A2, b2 = simplex(c1,A1,b1,d)\n",
    "        if A2 is None:\n",
    "            print(\"Problema infactivel\")\n",
    "            return None\n",
    "\n",
    "        # Convertendo tudo para mesmo formato que o simplex (Fase 2)\n",
    "        A2 = [[float(x) for x in row] for row in A2]\n",
    "        b2 = [float(x) for x in b2] \n",
    "        \n",
    "        fA, fb = simplex(c, A2, b2,(False, nvar))\n",
    "        print(\"Solução ótima: \",fb)\n",
    "        \n",
    "    # Não foi necessario usar a fase 1 (Resolve direto Fase 2)    \n",
    "    else:  \n",
    "        fA, fb = simplex(c, A1, b1, d)\n",
    "        print(\"Solução ótima: \", fb)\n",
    "    \n",
    "    fim = time.time()\n",
    "    print(\"Tempo de execução: \", fim - inicio)"
   ]
  },
  {
   "cell_type": "markdown",
   "id": "33929699",
   "metadata": {},
   "source": [
    "## 4- Testando alguns exemplos"
   ]
  },
  {
   "cell_type": "markdown",
   "id": "bbc59d9b",
   "metadata": {},
   "source": [
    "#### Slides da aula 23\n",
    "\n",
    "Solucão básica viável para iniciar o simplex:\n",
    "(x1,x2,x3,x4) = (1 ; 1/2 ; 1/3 ; 0) e zero nas variaveis artificiais\n",
    "\n",
    "Problema: A tem linhas LD --> sol. encontrada na fase 1 é degenerada"
   ]
  },
  {
   "cell_type": "code",
   "execution_count": 15,
   "id": "ca85ab39",
   "metadata": {},
   "outputs": [
    {
     "name": "stdout",
     "output_type": "stream",
     "text": [
      "Iterações da fase 1:  2\n",
      "Iterações da fase 2:  1\n",
      "Solução ótima:  [0.5, 1.2500000000000002, 0, 1.0000000000000002]\n",
      "Tempo de execução:  0.0\n"
     ]
    }
   ],
   "source": [
    "# Coeficientes da função objetivo\n",
    "c = [1, 1, 1, 0]\n",
    "\n",
    "# Matriz de coeficientes das restrições\n",
    "A = [\n",
    "    [1, 2, 3, 0],\n",
    "    [-1, 2, 6, 0],\n",
    "    [0, 4, 9, 0],\n",
    "    [0, 0, 3, 1]\n",
    "]\n",
    "\n",
    "# Vetor de termos independentes das restrições\n",
    "b = [3, 2, 5, 1]\n",
    "\n",
    "get_solution_simplex(c, A, b)"
   ]
  },
  {
   "cell_type": "markdown",
   "id": "591d90a0",
   "metadata": {},
   "source": [
    "#### Lista 18\n",
    "Solução ótima esperada: (3,2,0,0)"
   ]
  },
  {
   "cell_type": "code",
   "execution_count": 16,
   "id": "cb91b54f",
   "metadata": {},
   "outputs": [
    {
     "name": "stdout",
     "output_type": "stream",
     "text": [
      "Iterações da fase 1:  1\n",
      "Iterações da fase 2:  1\n",
      "Solução ótima:  [3.0, 2.0, 0, 0]\n",
      "Tempo de execução:  0.0009882450103759766\n"
     ]
    }
   ],
   "source": [
    "# Coeficientes da função objetivo\n",
    "c = [-2, -1, 0, 0] \n",
    "\n",
    "# Matriz de coeficientes das restrições\n",
    "A = [\n",
    "    [-1, 1, -1, 0],  \n",
    "    [1, 2, 0, 1]   \n",
    "]\n",
    "\n",
    "# Vetor de termos independentes das restrições\n",
    "b = [-1, 7]\n",
    "\n",
    "get_solution_simplex(c, A, b)"
   ]
  },
  {
   "cell_type": "markdown",
   "id": "5a30160d",
   "metadata": {},
   "source": [
    "#### Lista 20\n",
    "Solução ótima esperada: (1,5,0)"
   ]
  },
  {
   "cell_type": "code",
   "execution_count": 17,
   "id": "15360aa4",
   "metadata": {},
   "outputs": [
    {
     "name": "stdout",
     "output_type": "stream",
     "text": [
      "Iterações da fase 1:  2\n",
      "Iterações da fase 2:  0\n",
      "Solução ótima:  [1.0, 5.0, 0]\n",
      "Tempo de execução:  0.0009984970092773438\n"
     ]
    }
   ],
   "source": [
    "# Coeficientes da função objetivo\n",
    "c = [4, 3, 7] \n",
    "\n",
    "# Matriz de coeficientes das restrições\n",
    "A = [\n",
    "    [2, 2, 1], \n",
    "    [3, 1, 2]  \n",
    "]\n",
    "\n",
    "# Vetor de termos independentes das restrições\n",
    "b = [12, 8]\n",
    "\n",
    "get_solution_simplex(c, A, b)"
   ]
  },
  {
   "cell_type": "markdown",
   "id": "246461ad",
   "metadata": {},
   "source": [
    "#### Lista 20\n",
    "Trocando b para (5,8)\n",
    "\n",
    "Solução ótima esperada: (2,0,1)"
   ]
  },
  {
   "cell_type": "code",
   "execution_count": 18,
   "id": "5592b586",
   "metadata": {},
   "outputs": [
    {
     "name": "stdout",
     "output_type": "stream",
     "text": [
      "Iterações da fase 1:  2\n",
      "Iterações da fase 2:  0\n",
      "Solução ótima:  [2.0, 0, 1.0]\n",
      "Tempo de execução:  0.0\n"
     ]
    }
   ],
   "source": [
    "# Coeficientes da função objetivo\n",
    "c = [4, 3, 7]\n",
    "\n",
    "# Matriz de coeficientes das restrições\n",
    "A = [\n",
    "    [2, 2, 1], \n",
    "    [3, 1, 2]  \n",
    "]\n",
    "\n",
    "# Vetor de termos independentes das restrições\n",
    "b = [5, 8]\n",
    "\n",
    "get_solution_simplex(c, A, b)"
   ]
  },
  {
   "cell_type": "markdown",
   "id": "70414b14",
   "metadata": {},
   "source": [
    "#### Lista 16\n",
    "Solução esperada: problema infactível"
   ]
  },
  {
   "cell_type": "code",
   "execution_count": 19,
   "id": "4f7245e1",
   "metadata": {},
   "outputs": [
    {
     "name": "stdout",
     "output_type": "stream",
     "text": [
      "Iterações da fase 1:  1\n",
      "Problema infactivel\n"
     ]
    }
   ],
   "source": [
    "# Coeficientes da função objetivo\n",
    "c = [2, -1, 5, 0] \n",
    "\n",
    "# Matriz de coeficientes das restrições\n",
    "A = [\n",
    "    [1, 1, 1, 0], \n",
    "    [2, 3, 2, 1] \n",
    "]\n",
    "\n",
    "# Vetor de termos independentes das restrições\n",
    "b = [4, 5]\n",
    "\n",
    "get_solution_simplex(c, A, b)"
   ]
  },
  {
   "cell_type": "markdown",
   "id": "6c769fa0",
   "metadata": {},
   "source": [
    "#### Lista 13\n",
    "Solução esperada: x1 = -1/3  e  x2 = 10/3\n",
    "\n",
    "OBS: x1 livre --> (x1+) - (x1-)"
   ]
  },
  {
   "cell_type": "code",
   "execution_count": 20,
   "id": "86152568",
   "metadata": {},
   "outputs": [
    {
     "name": "stdout",
     "output_type": "stream",
     "text": [
      "Iterações da fase 1:  2\n",
      "Iterações da fase 2:  0\n",
      "Solução ótima:  [0, 0.33333333333333326, 3.3333333333333335, 0, 0.33333333333333326, 0]\n",
      "Tempo de execução:  0.0009965896606445312\n"
     ]
    }
   ],
   "source": [
    "# Coeficientes da função objetivo\n",
    "#x1+, x1-, x2, x3, x4, x5\n",
    "c = [-1, 1, 1, 0, 0, 0] \n",
    "\n",
    "# Matriz de coeficientes das restrições\n",
    "A = [\n",
    "    [1, -1, 1, -1, 0, 0], \n",
    "    [-1, 1, 1, 0, 1, 0],\n",
    "    [-2, 2, 1, 0, 0, -1]\n",
    "]\n",
    "\n",
    "# Vetor de termos independentes das restrições\n",
    "b = [3, 4, 4]\n",
    "\n",
    "get_solution_simplex(c, A, b)"
   ]
  },
  {
   "cell_type": "markdown",
   "id": "b35e819f",
   "metadata": {},
   "source": [
    "#### Lista 19\n",
    "Solução ótima esperada: (2, 0, 1, 0, 0)"
   ]
  },
  {
   "cell_type": "code",
   "execution_count": 21,
   "id": "1faaaac0",
   "metadata": {},
   "outputs": [
    {
     "name": "stdout",
     "output_type": "stream",
     "text": [
      "Iterações da fase 2:  0\n",
      "Solução ótima:  [2, 0, 1, 0, 0]\n",
      "Tempo de execução:  0.0\n"
     ]
    }
   ],
   "source": [
    "# Coeficientes da função objetivo\n",
    "c = [-3, 3, -4, 4, 0] \n",
    "\n",
    "# Matriz de coeficientes das restrições\n",
    "A = [\n",
    "    [1, -1, 0, 0, 1], \n",
    "    [0, 0, 1, -1, 1]\n",
    "]\n",
    "\n",
    "# Vetor de termos independentes das restrições\n",
    "b = [2, 1]\n",
    "\n",
    "get_solution_simplex(c, A, b)"
   ]
  },
  {
   "cell_type": "markdown",
   "id": "945f17a7",
   "metadata": {},
   "source": [
    "#### Lista 15 - Verificar troca de base usando Regra de Bland\n",
    "Solução ótima esperada: (0, 8, 0, 0)"
   ]
  },
  {
   "cell_type": "code",
   "execution_count": 22,
   "id": "fe3081b1",
   "metadata": {},
   "outputs": [
    {
     "name": "stdout",
     "output_type": "stream",
     "text": [
      "Iterações da fase 2:  2\n",
      "Solução ótima:  [0, 8.0, 0, 0.0]\n",
      "Tempo de execução:  0.0009982585906982422\n"
     ]
    }
   ],
   "source": [
    "# Coeficientes da função objetivo\n",
    "c = [-2, -3, 0, 0]\n",
    "\n",
    "# Matriz de coeficientes das restrições\n",
    "A = [\n",
    "    [2, 1, 1, 0],\n",
    "    [3, 3, 0, 1]\n",
    "]\n",
    "\n",
    "# Vetor de termos independentes das restrições\n",
    "b = [8, 24]\n",
    "\n",
    "get_solution_simplex(c,A,b)"
   ]
  },
  {
   "cell_type": "code",
   "execution_count": null,
   "id": "b766e3c4",
   "metadata": {},
   "outputs": [],
   "source": []
  }
 ],
 "metadata": {
  "kernelspec": {
   "display_name": "Python 3 (ipykernel)",
   "language": "python",
   "name": "python3"
  },
  "language_info": {
   "codemirror_mode": {
    "name": "ipython",
    "version": 3
   },
   "file_extension": ".py",
   "mimetype": "text/x-python",
   "name": "python",
   "nbconvert_exporter": "python",
   "pygments_lexer": "ipython3",
   "version": "3.11.4"
  }
 },
 "nbformat": 4,
 "nbformat_minor": 5
}
