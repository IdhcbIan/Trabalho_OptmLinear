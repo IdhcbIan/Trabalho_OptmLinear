{
 "cells": [
  {
   "cell_type": "markdown",
   "id": "773b44cf",
   "metadata": {},
   "source": [
    "# Implementação do Algoritmo Simplex "
   ]
  },
  {
   "cell_type": "markdown",
   "id": "985ba1ef",
   "metadata": {},
   "source": [
    "## Descrição Geral\n",
    "Este notebook apresenta uma implementação do algoritmo simplex.\n",
    "\n",
    "---\n",
    "\n",
    "### **Informações dos Autores**\n",
    "- **Autores - Numero Usp**  \n",
    "\n",
    "    Cody Stefano Barham Setti – 4856322\n",
    "\n",
    "    Ian de Holanda Cavalcanti Bezerra – 13835412\n",
    "                \n",
    "    Julia Graziosi Ortiz – 11797810\n",
    "                \n",
    "    Katlyn Ribeiro Almeida – 14586070\n",
    "                \n",
    "    Matheus Araujo Pinheiro – 14676810\n",
    "---\n",
    "\n",
    "### **Objetivos**\n",
    "O objetivo deste trabalho foi implementar o algoritmo simplex na linguagem de programação Python e\n",
    "resolver com tal implementação uma gama de problemas de otimização linear.\n",
    "\n",
    "---\n",
    "\n",
    "### **Ferramentas e Bibliotecas Utilizadas**\n",
    "Linguagem e bibliotecas específicas: como Python; NumPy, Math, Time:\n",
    "\n",
    "---"
   ]
  },
  {
   "cell_type": "code",
   "execution_count": 55,
   "id": "92a7535d",
   "metadata": {},
   "outputs": [],
   "source": [
    "# Bibliotecas\n",
    "import math\n",
    "import numpy as np\n",
    "import time"
   ]
  },
  {
   "cell_type": "markdown",
   "id": "d807f7d4",
   "metadata": {},
   "source": [
    "---\n",
    "\n",
    "### **Organização**\n",
    "1. **Obter solução básica viável** \n",
    "2. **Aplicar Método Simplex:** \n",
    "3. **Simplex de duas fases:** \n",
    "4. **Testando alguns exemplos:**\n",
    "\n",
    "---"
   ]
  },
  {
   "cell_type": "markdown",
   "id": "701d8887",
   "metadata": {},
   "source": [
    "## 1- Fase 1: Obter solução básica viável\n",
    "Funções auxiliares para encontrar variáveis básicas:"
   ]
  },
  {
   "cell_type": "code",
   "execution_count": 56,
   "id": "db866c44",
   "metadata": {},
   "outputs": [],
   "source": [
    "# Verifica se uma coluna é uma coluna da matriz identidade.\n",
    "# Uma coluna é da identidade se a soma dos elementos é 1 e \n",
    "# contém exatamente um '1' e o restante '0's.\n",
    "def eh_basica(coluna):\n",
    "    return sum(coluna) == 1 and len([c for c in coluna if c == 0]) == len(coluna) - 1"
   ]
  },
  {
   "cell_type": "code",
   "execution_count": 57,
   "id": "17b344da",
   "metadata": {},
   "outputs": [],
   "source": [
    "# Retorna o índice da posição onde existe o valor '1' do vetor.\n",
    "# Utilizado para identificar as variáveis básicas no tableau.\n",
    "def get_one(vector):\n",
    "    for i in range(len(vector)):\n",
    "        if vector[i] == 1:\n",
    "            return i"
   ]
  },
  {
   "cell_type": "code",
   "execution_count": 58,
   "id": "1705ced6",
   "metadata": {},
   "outputs": [],
   "source": [
    "# Verifica se um elemento é considerado zero, dentro de uma tolerância (10e-4).\n",
    "# Isso é necessário para evitar problemas de precisão em cálculos numéricos.\n",
    "def is_zero(element):\n",
    "    return abs(element) <= 10e-4"
   ]
  },
  {
   "cell_type": "code",
   "execution_count": 59,
   "id": "1ed33a63",
   "metadata": {},
   "outputs": [],
   "source": [
    "# Identifica as variáveis básicas e associa o índice das colunas que correspondem \n",
    "# a colunas da matriz identidade.\n",
    "# Retorna:\n",
    "# - `id`: um vetor identidade indicando se uma linha contém uma variável básica.\n",
    "# - `i_B`: vetor contendo os índices das colunas que são variáveis básicas, ou -1 se não forem.\n",
    "def basicas(A):\n",
    "    id = [0] * len(A)       # Marca quais linhas já possuem variáveis básicas.\n",
    "    i_B = [-1] * len(A)     # Índices das colunas básicas.\n",
    "    colunas = np.array(A).T # Transpõe a matriz A para acessar as colunas.\n",
    "    for coluna in range(0, len(colunas)):\n",
    "        if eh_basica(colunas[coluna]) and id[get_one(colunas[coluna])] == 0:\n",
    "            i_B[get_one(colunas[coluna])]= coluna\n",
    "            id[get_one(colunas[coluna])] = 1\n",
    "    return id, i_B\n",
    "# OBS: quando escreve basicas(A)[0] --> acessa quais colunas\n",
    "#                     basicas(A)[1] --> acessa os indices (-1) das basicas"
   ]
  },
  {
   "cell_type": "markdown",
   "id": "64567e66",
   "metadata": {},
   "source": [
    "Verifica se é necessário adicionar variáveis artificiais:\n",
    "\n",
    "- se sim, então retorna os coeficientes do novo problema (minimizar o custo das artificiais)\n",
    "- se não, então o problema segue o mesmo"
   ]
  },
  {
   "cell_type": "code",
   "execution_count": 60,
   "id": "c63de54f",
   "metadata": {},
   "outputs": [],
   "source": [
    "# Implementa a Fase 1 do método simplex. Adiciona variáveis artificiais para garantir uma solução viável.\n",
    "# Se as variáveis artificiais forem necessárias, elas são adicionadas às restrições e seus custos são definidos como 1.\n",
    "# Retorna:\n",
    "# - Custos atualizados (incluindo artificiais, se necessário).\n",
    "# - Matriz A e vetor b modificados.\n",
    "# - Um flag `d` indicando se variáveis artificiais foram adicionadas.\n",
    "def fase1(c, A, b):\n",
    "    nvar = len(A[0])\n",
    "    d = (False, nvar)\n",
    "    \n",
    "    # Verifica se é necessario adicionar variaveis artificiais\n",
    "    sol_basica = any(x == -1 for x in basicas(A)[1])\n",
    "    if not sol_basica:\n",
    "        d = (False, nvar)\n",
    "        return c, A, b, d\n",
    "\n",
    "    # Custos da nova função\n",
    "    # Zero para as variáveis originais\n",
    "    # E um para as variáveis artificiais\n",
    "    c1 = [0] * len(c)\n",
    "    id = basicas(A)[0]\n",
    "    for i in range(0, len(id)):\n",
    "        if id[i] == 0:\n",
    "            coluna = [0] * len(id)\n",
    "            coluna[i] = 1\n",
    "            for linha in range(0, len(A)):\n",
    "                A[linha].append(coluna[linha])\n",
    "            c1.append(1)\n",
    "\n",
    "    # Flag se precisou adicionar variaveis\n",
    "    d = (True, nvar)\n",
    "\n",
    "    return c1, A, b, d"
   ]
  },
  {
   "cell_type": "markdown",
   "id": "a1149603",
   "metadata": {},
   "source": [
    "##### Resultado da fase 1\n",
    "Problema com variáveis artificiais: com os novos coeficientes, aplicamos o Simplex. A solução ótima da fase 1 nos dá uma solução básica viável do problema original. \n",
    "\n",
    "O tableau final da fase 1 é utilizado como base para retornar ao problema original. As colunas usadas são:\n",
    "\n",
    "    - da funcao objetivo e valores das basicas\n",
    "    - das variaveis originais\n",
    "    \n",
    "Antes, verificamos se:\n",
    "\n",
    "- temos restrições LD\n",
    "- a solução é degenerada\n",
    "- o problema é infactível (função objetivo diferente de zero)"
   ]
  },
  {
   "cell_type": "code",
   "execution_count": 61,
   "id": "fd710ff0",
   "metadata": {},
   "outputs": [],
   "source": [
    "# Ajusta o tableau para retornar ao problema original após a Fase 1.\n",
    "# Remove as variáveis artificiais do tableau.\n",
    "# Retorna a matriz A e o vetor b ajustados para a Fase 2.\n",
    "def resultado_fase1(tableau, nvar):\n",
    "    # Mantem as colunas das variaveis originais\n",
    "    if not is_zero(tableau[0][0]):\n",
    "        return None, None\n",
    "\n",
    "    qtdd_colunas = nvar + 1\n",
    "\n",
    "    # Verifica se o tableau tem dimensões válidas\n",
    "    if len(tableau) < 2:\n",
    "        return None, None\n",
    "\n",
    "    # Obtem os indices das variaveis basicas\n",
    "    basic_vars = tableau[-1] if len(tableau[-1]) > 0 else []\n",
    "    novo_A = []\n",
    "    novo_b = []\n",
    "\n",
    "    # Processa cada linha, exceto a primeira (custos) e a última (indices)\n",
    "    for basica in range(1, len(tableau)-1):\n",
    "        if basica < len(tableau) and basica < len(basic_vars) and basic_vars[basica] > nvar-1:\n",
    "            for j in range(1, nvar+1):\n",
    "                if j < len(tableau[basica]) and not is_zero(tableau[basica][j]):\n",
    "                    tableau = atualiza_tableau(tableau, (basica, j))\n",
    "\n",
    "    # Mantem as linhas das variaveis basicas originais\n",
    "    if len(basic_vars) > 0:\n",
    "        for i, xB in enumerate(basic_vars):\n",
    "            if i+1 < len(tableau) and xB < qtdd_colunas:\n",
    "                row = tableau[i+1]\n",
    "                if len(row) >= qtdd_colunas:\n",
    "                    novo_A.append(row[1:qtdd_colunas])\n",
    "                    novo_b.append(row[0])\n",
    "\n",
    "    return novo_A, novo_b"
   ]
  },
  {
   "cell_type": "markdown",
   "id": "e7ac187b",
   "metadata": {},
   "source": [
    "## 2- Fase 2: Aplicar Método Simplex"
   ]
  },
  {
   "cell_type": "markdown",
   "id": "f2556b9a",
   "metadata": {},
   "source": [
    "##### Tableau Inicial \n",
    "\n",
    "Para montar o tableau a matriz A deve conter todas as colunas da identidade necessárias para obter uma solução básica viável. Garantimos isso pois todos os problemas passam pela fase 1."
   ]
  },
  {
   "cell_type": "code",
   "execution_count": 62,
   "id": "0d397ceb",
   "metadata": {},
   "outputs": [],
   "source": [
    "# Constrói o tableau inicial do método simplex.\n",
    "# Inclui a linha de custos reduzidos, restrições e índices das variáveis básicas.\n",
    "# Retorna o tableau inicial.\n",
    "def tableau_inicial(c, A, b):\n",
    "    # Encontra as variáveis básicas\n",
    "    identidade, indice_basicas = basicas(A)\n",
    "    \n",
    "    # LZ: linha zero, contem o valor da função objetivo (fo) seguido pelos custos reduzidos\n",
    "    # Função objetivo\n",
    "    fo = -sum(b[i] * c[indice_basicas[i]] for i in range(len(b)))\n",
    "    \n",
    "    # Custos reduzidos\n",
    "    cr = [ c[i] - sum(A[j][i] * c[indice_basicas[j]] \n",
    "            for j in range(len(A))) if i not in indice_basicas else 0\n",
    "            for i in range(len(A[0]))\n",
    "         ]\n",
    "    lz = [fo] + cr\n",
    "    \n",
    "    # Próximas linhas do tableau: b | A\n",
    "    linhas = [[b[i]] + A[i] for i in range(len(b))]\n",
    "    \n",
    "    # Inclui o indice das basicas na ultima linha do tableau\n",
    "    return [lz] + linhas + [indice_basicas]"
   ]
  },
  {
   "cell_type": "markdown",
   "id": "8c3aa86f",
   "metadata": {},
   "source": [
    "Funções auxiliares para atualizar o tableau:"
   ]
  },
  {
   "cell_type": "code",
   "execution_count": 63,
   "id": "ac36484b",
   "metadata": {},
   "outputs": [],
   "source": [
    "# Verifica se o tableau atual ainda contém custos reduzidos negativos.\n",
    "# Retorna True se a solução não é ótima, caso contrário False.\n",
    "def nao_otima(tableau):\n",
    "    return any(c < 0 for c in tableau[0][1:])"
   ]
  },
  {
   "cell_type": "code",
   "execution_count": 64,
   "id": "a570879d",
   "metadata": {},
   "outputs": [],
   "source": [
    "# Determina a posição do pivô para atualização do tableau.\n",
    "# Identifica qual variável entra e qual sai da base.\n",
    "def posicao_pivo(tableau):\n",
    "    custos = tableau[0]\n",
    "    \n",
    "    # Escolhe o primeiro custo reduzido negativo (quem entra na base)\n",
    "    for j in range(1,len(custos)):\n",
    "        if custos[j] < 0:\n",
    "            coluna_pivo = j\n",
    "            break\n",
    "\n",
    "    theta = []\n",
    "    for linha_i in range (1,len(tableau)-1):\n",
    "        if tableau[linha_i][coluna_pivo] <= 0:\n",
    "            theta.append(math.inf)\n",
    "        else:\n",
    "            theta.append(tableau[linha_i][0] / tableau[linha_i][coluna_pivo])\n",
    "    \n",
    "    # Verifica se o problema é ilimitado\n",
    "    if set(theta) == {math.inf}:\n",
    "        print(\"Problema ilimitado\")\n",
    "        return None, None\n",
    "\n",
    "    # Escolhe quem sai da base (menor indice)\n",
    "    # Soma um porque estamos ignorando a linha de custos\n",
    "    linha_pivo = theta.index(min(theta)) + 1\n",
    "    \n",
    "    return linha_pivo, coluna_pivo"
   ]
  },
  {
   "cell_type": "code",
   "execution_count": 65,
   "id": "d3b336ea",
   "metadata": {},
   "outputs": [],
   "source": [
    "# Atualiza o tableau com base no pivô escolhido.\n",
    "# Realiza operações de linha para garantir que o pivô se torne 1 e zera os demais elementos na coluna.\n",
    "def atualiza_tableau(tableau, pivo):\n",
    "    i, j = pivo\n",
    "    valor_pivo = tableau[i][j]\n",
    "    \n",
    "    # Divide a linha do pivo para que o valor do pivo seja 1\n",
    "    tableau[i] = np.array(tableau[i]) / valor_pivo\n",
    "    \n",
    "    # Atualiza os valores de dentro do tableau\n",
    "    # (zera os outros elementos da coluna do pivo)\n",
    "    for linha in range (len(tableau)-1):\n",
    "        if linha != i:\n",
    "            multiplicador = (-1) * tableau[linha][j]\n",
    "            tableau[linha] = multiplicador*tableau[i] + tableau[linha]\n",
    "\n",
    "            tableau[linha] = np.array([0 if is_zero(x) else x for x in list(tableau[linha])])\n",
    "   \n",
    "    # Atualiza variaveis básicas\n",
    "    tableau[-1][i-1] = j-1 \n",
    "\n",
    "    return tableau "
   ]
  },
  {
   "cell_type": "markdown",
   "id": "2881d617",
   "metadata": {},
   "source": [
    " ##### Simplex  e  Solução ótima\n",
    " Funções auxiliares para o simplex de duas fases:"
   ]
  },
  {
   "cell_type": "code",
   "execution_count": 66,
   "id": "854399b7",
   "metadata": {},
   "outputs": [],
   "source": [
    "# Obtém a solução ótima do problema a partir do tableau final.\n",
    "# Retorna o vetor solução contendo os valores das variáveis básicas.\n",
    "def otima(tableau, nvar):\n",
    "    solucoes = [0] * nvar  # Inicia com todos valendo zero\n",
    "    \n",
    "    # Coloca o valor das basicas na posicao correta da solucao\n",
    "    for i, xB in enumerate(tableau[-1]):\n",
    "        solucoes[xB] = tableau[i+1][0]\n",
    "        \n",
    "    return solucoes "
   ]
  },
  {
   "cell_type": "code",
   "execution_count": 67,
   "id": "c0fda3c0",
   "metadata": {},
   "outputs": [],
   "source": [
    "# Implementa o método simplex para resolver problemas de programação linear.\n",
    "# Retorna a solução ótima ou informa se o problema é ilimitado ou infactível.\n",
    "def simplex(c, A, b, d):\n",
    "    tableau = tableau_inicial(c, A, b)\n",
    "    nvar = d[1]\n",
    "    it = 0\n",
    "    \n",
    "    while nao_otima(tableau) and it < 10000:\n",
    "        it = it +1\n",
    "        pivo = posicao_pivo(tableau)\n",
    "        if pivo == (None, None):\n",
    "            return None, None\n",
    "        tableau = atualiza_tableau(tableau, pivo)\n",
    "\n",
    "    # Iterações\n",
    "    if d[0]:\n",
    "        print(\"Iterações da fase 1: \",it)\n",
    "    else:\n",
    "        print(\"Iterações da fase 2: \",it)  \n",
    "    if it == 10000:\n",
    "        print(\"Max Iteracoes atingida\")\n",
    "        return None, None\n",
    "\n",
    "    # Se estamos na Fase 1 retorna um tableau\n",
    "    if d[0]:\n",
    "        novo_A, novo_b = resultado_fase1(tableau, nvar)\n",
    "        return novo_A, novo_b\n",
    "    # Se estamos na Fase 2 retorna a solução ótima\n",
    "    else:\n",
    "        return A, otima(tableau, nvar) "
   ]
  },
  {
   "cell_type": "markdown",
   "id": "eeacb86f",
   "metadata": {},
   "source": [
    "## 3- Simplex de duas fases:"
   ]
  },
  {
   "cell_type": "code",
   "execution_count": 68,
   "id": "4b4b7cae",
   "metadata": {},
   "outputs": [],
   "source": [
    "# Resolve um problema de programação linear utilizando o método simplex,\n",
    "# começando pela Fase 1 se necessário.\n",
    "def get_solution_simplex(c, A, b):\n",
    "    inicio = time.time()\n",
    "    nvar = len(A[0])\n",
    "    c1, A1, b1, d = fase1(c, A, b)\n",
    "\n",
    "    # Caso seja necessario usar variaveis artificiais (Fase 1)\n",
    "    if d[0]:\n",
    "        A2, b2 = simplex(c1,A1,b1,d)\n",
    "        if A2 is None:\n",
    "            print(\"Problema infactivel\")\n",
    "            return None\n",
    "\n",
    "        # Convertendo tudo para mesmo formato que o simplex (Fase 2)\n",
    "        A2 = [[float(x) for x in row] for row in A2]\n",
    "        b2 = [float(x) for x in b2] \n",
    "        \n",
    "        fA, fb = simplex(c, A2, b2,(False, nvar))\n",
    "        print(\"Solução ótima: \",fb)\n",
    "        \n",
    "    # Não foi necessario usar a fase 1 (Resolve direto Fase 2)    \n",
    "    else:  \n",
    "        fA, fb = simplex(c, A1, b1, d)\n",
    "        print(\"Solução ótima: \", fb)\n",
    "    \n",
    "    fim = time.time()\n",
    "    print(\"Tempo de execução: \", fim - inicio)"
   ]
  },
  {
   "cell_type": "markdown",
   "id": "33929699",
   "metadata": {},
   "source": [
    "## 4- Testando alguns exemplos"
   ]
  },
  {
   "cell_type": "markdown",
   "id": "bbc59d9b",
   "metadata": {},
   "source": [
    "#### Slides da aula 23\n",
    "\n",
    "Solucão básica viável para iniciar o simplex:\n",
    "(x1,x2,x3,x4) = (1 ; 1/2 ; 1/3 ; 0) e zero nas variaveis artificiais\n",
    "\n",
    "Problema: A tem linhas LD --> sol. encontrada na fase 1 é degenerada"
   ]
  },
  {
   "cell_type": "code",
   "execution_count": 69,
   "id": "ca85ab39",
   "metadata": {},
   "outputs": [
    {
     "name": "stdout",
     "output_type": "stream",
     "text": [
      "Iterações da fase 1:  2\n",
      "Iterações da fase 2:  1\n",
      "Solução ótima:  [np.float64(0.5), np.float64(1.2500000000000002), 0, np.float64(1.0000000000000002)]\n",
      "Tempo de execução:  0.0005404949188232422\n"
     ]
    }
   ],
   "source": [
    "# Coeficientes da função objetivo\n",
    "c = [1, 1, 1, 0]\n",
    "\n",
    "# Matriz de coeficientes das restrições\n",
    "A = [\n",
    "    [1, 2, 3, 0],\n",
    "    [-1, 2, 6, 0],\n",
    "    [0, 4, 9, 0],\n",
    "    [0, 0, 3, 1]\n",
    "]\n",
    "\n",
    "# Vetor de termos independentes das restrições\n",
    "b = [3, 2, 5, 1]\n",
    "\n",
    "get_solution_simplex(c, A, b)"
   ]
  },
  {
   "cell_type": "markdown",
   "id": "591d90a0",
   "metadata": {},
   "source": [
    "#### Lista 18\n",
    "Solução ótima esperada: (3,2,0,0)"
   ]
  },
  {
   "cell_type": "code",
   "execution_count": 70,
   "id": "cb91b54f",
   "metadata": {},
   "outputs": [
    {
     "name": "stdout",
     "output_type": "stream",
     "text": [
      "Iterações da fase 1:  1\n",
      "Iterações da fase 2:  1\n",
      "Solução ótima:  [np.float64(3.0), np.float64(2.0), 0, 0]\n",
      "Tempo de execução:  0.0009050369262695312\n"
     ]
    }
   ],
   "source": [
    "# Coeficientes da função objetivo\n",
    "c = [-2, -1, 0, 0] \n",
    "\n",
    "# Matriz de coeficientes das restrições\n",
    "A = [\n",
    "    [-1, 1, -1, 0],  \n",
    "    [1, 2, 0, 1]   \n",
    "]\n",
    "\n",
    "# Vetor de termos independentes das restrições\n",
    "b = [-1, 7]\n",
    "\n",
    "get_solution_simplex(c, A, b)"
   ]
  },
  {
   "cell_type": "markdown",
   "id": "5a30160d",
   "metadata": {},
   "source": [
    "#### Lista 20\n",
    "Solução ótima esperada: (1,5,0)"
   ]
  },
  {
   "cell_type": "code",
   "execution_count": 71,
   "id": "15360aa4",
   "metadata": {},
   "outputs": [
    {
     "name": "stdout",
     "output_type": "stream",
     "text": [
      "Iterações da fase 1:  2\n",
      "Iterações da fase 2:  0\n",
      "Solução ótima:  [1.0, 5.0, 0]\n",
      "Tempo de execução:  0.00029015541076660156\n"
     ]
    }
   ],
   "source": [
    "# Coeficientes da função objetivo\n",
    "c = [4, 3, 7] \n",
    "\n",
    "# Matriz de coeficientes das restrições\n",
    "A = [\n",
    "    [2, 2, 1], \n",
    "    [3, 1, 2]  \n",
    "]\n",
    "\n",
    "# Vetor de termos independentes das restrições\n",
    "b = [12, 8]\n",
    "\n",
    "get_solution_simplex(c, A, b)"
   ]
  },
  {
   "cell_type": "markdown",
   "id": "246461ad",
   "metadata": {},
   "source": [
    "#### Lista 20\n",
    "Trocando b para (5,8)\n",
    "\n",
    "Solução ótima esperada: (2,0,1)"
   ]
  },
  {
   "cell_type": "code",
   "execution_count": 72,
   "id": "5592b586",
   "metadata": {},
   "outputs": [
    {
     "name": "stdout",
     "output_type": "stream",
     "text": [
      "Iterações da fase 1:  2\n",
      "Iterações da fase 2:  0\n",
      "Solução ótima:  [2.0, 0, 1.0]\n",
      "Tempo de execução:  0.00028014183044433594\n"
     ]
    }
   ],
   "source": [
    "# Coeficientes da função objetivo\n",
    "c = [4, 3, 7]\n",
    "\n",
    "# Matriz de coeficientes das restrições\n",
    "A = [\n",
    "    [2, 2, 1], \n",
    "    [3, 1, 2]  \n",
    "]\n",
    "\n",
    "# Vetor de termos independentes das restrições\n",
    "b = [5, 8]\n",
    "\n",
    "get_solution_simplex(c, A, b)"
   ]
  },
  {
   "cell_type": "markdown",
   "id": "70414b14",
   "metadata": {},
   "source": [
    "#### Lista 16\n",
    "Solução esperada: problema infactível"
   ]
  },
  {
   "cell_type": "code",
   "execution_count": 73,
   "id": "4f7245e1",
   "metadata": {},
   "outputs": [
    {
     "name": "stdout",
     "output_type": "stream",
     "text": [
      "Iterações da fase 1:  1\n",
      "Problema infactivel\n"
     ]
    }
   ],
   "source": [
    "# Coeficientes da função objetivo\n",
    "c = [2, -1, 5, 0] \n",
    "\n",
    "# Matriz de coeficientes das restrições\n",
    "A = [\n",
    "    [1, 1, 1, 0], \n",
    "    [2, 3, 2, 1] \n",
    "]\n",
    "\n",
    "# Vetor de termos independentes das restrições\n",
    "b = [4, 5]\n",
    "\n",
    "get_solution_simplex(c, A, b)"
   ]
  },
  {
   "cell_type": "markdown",
   "id": "6c769fa0",
   "metadata": {},
   "source": [
    "#### Lista 13\n",
    "Solução esperada: x1 = -1/3  e  x2 = 10/3\n",
    "\n",
    "OBS: x1 livre --> (x1+) - (x1-)"
   ]
  },
  {
   "cell_type": "code",
   "execution_count": 74,
   "id": "86152568",
   "metadata": {},
   "outputs": [
    {
     "name": "stdout",
     "output_type": "stream",
     "text": [
      "Iterações da fase 1:  2\n",
      "Iterações da fase 2:  0\n",
      "Solução ótima:  [0, 0.33333333333333326, 3.3333333333333335, 0, 0.33333333333333326, 0]\n",
      "Tempo de execução:  0.0004706382751464844\n"
     ]
    }
   ],
   "source": [
    "# Coeficientes da função objetivo\n",
    "#x1+, x1-, x2, x3, x4, x5\n",
    "c = [-1, 1, 1, 0, 0, 0] \n",
    "\n",
    "# Matriz de coeficientes das restrições\n",
    "A = [\n",
    "    [1, -1, 1, -1, 0, 0], \n",
    "    [-1, 1, 1, 0, 1, 0],\n",
    "    [-2, 2, 1, 0, 0, -1]\n",
    "]\n",
    "\n",
    "# Vetor de termos independentes das restrições\n",
    "b = [3, 4, 4]\n",
    "\n",
    "get_solution_simplex(c, A, b)"
   ]
  },
  {
   "cell_type": "markdown",
   "id": "b35e819f",
   "metadata": {},
   "source": [
    "#### Lista 19\n",
    "Solução ótima esperada: (2, 0, 1, 0, 0)"
   ]
  },
  {
   "cell_type": "code",
   "execution_count": 75,
   "id": "1faaaac0",
   "metadata": {},
   "outputs": [
    {
     "name": "stdout",
     "output_type": "stream",
     "text": [
      "Iterações da fase 2:  0\n",
      "Solução ótima:  [2, 0, 1, 0, 0]\n",
      "Tempo de execução:  0.00041866302490234375\n"
     ]
    }
   ],
   "source": [
    "# Coeficientes da função objetivo\n",
    "c = [-3, 3, -4, 4, 0] \n",
    "\n",
    "# Matriz de coeficientes das restrições\n",
    "A = [\n",
    "    [1, -1, 0, 0, 1], \n",
    "    [0, 0, 1, -1, 1]\n",
    "]\n",
    "\n",
    "# Vetor de termos independentes das restrições\n",
    "b = [2, 1]\n",
    "\n",
    "get_solution_simplex(c, A, b)"
   ]
  },
  {
   "cell_type": "markdown",
   "id": "945f17a7",
   "metadata": {},
   "source": [
    "#### Lista 15 - Verificar troca de base usando Regra de Bland\n",
    "Solução ótima esperada: (0, 8, 0, 0)"
   ]
  },
  {
   "cell_type": "code",
   "execution_count": 76,
   "id": "fe3081b1",
   "metadata": {},
   "outputs": [
    {
     "name": "stdout",
     "output_type": "stream",
     "text": [
      "Iterações da fase 2:  2\n",
      "Solução ótima:  [0, np.float64(8.0), 0, np.float64(0.0)]\n",
      "Tempo de execução:  0.0002200603485107422\n"
     ]
    }
   ],
   "source": [
    "# Coeficientes da função objetivo\n",
    "c = [-2, -3, 0, 0]\n",
    "\n",
    "# Matriz de coeficientes das restrições\n",
    "A = [\n",
    "    [2, 1, 1, 0],\n",
    "    [3, 3, 0, 1]\n",
    "]\n",
    "\n",
    "# Vetor de termos independentes das restrições\n",
    "b = [8, 24]\n",
    "\n",
    "get_solution_simplex(c,A,b)"
   ]
  },
  {
   "cell_type": "markdown",
   "id": "a0741b91",
   "metadata": {},
   "source": [
    "---"
   ]
  },
  {
   "cell_type": "code",
   "execution_count": 80,
   "id": "b766e3c4",
   "metadata": {},
   "outputs": [
    {
     "name": "stdout",
     "output_type": "stream",
     "text": [
      "Dimensões:\n",
      "A: 10x10\n",
      "X: 10x1\n",
      "A1: 2x10\n",
      "A2: 5x10\n",
      "A3: 8x10\n",
      "b1: 2x1\n",
      "b2: 5x1\n",
      "b3: 8x1\n",
      "C: 10x1\n",
      "[0.8100000023841858, 0.4699999988079071, 0.6299999952316284, 0.6000000238418579, 0.11999999731779099, 0.5099999904632568, 0.8199999928474426, 0.8799999952316284, 0.27000001072883606, 0.3199999928474426]\n",
      "[0.7699999809265137, 0.949999988079071, 0.6100000143051147, 0.029999999329447746, 0.3499999940395355, 0.03999999910593033, 0.8999999761581421, 0.7799999713897705, 0.38999998569488525, 0.4399999976158142]\n",
      "[0.8100000023841858, 0.4699999988079071, 0.6299999952316284, 0.6000000238418579, 0.11999999731779099, 0.5099999904632568, 0.8199999928474426, 0.8799999952316284, 0.27000001072883606, 0.3199999928474426]\n",
      "[0.7699999809265137, 0.949999988079071, 0.6100000143051147, 0.029999999329447746, 0.3499999940395355, 0.03999999910593033, 0.8999999761581421, 0.7799999713897705, 0.38999998569488525, 0.4399999976158142]\n",
      "[0.12999999523162842, 0.2199999988079071, 0.6600000262260437, 0.30000001192092896, 0.8299999833106995, 0.07000000029802322, 0.10999999940395355, 0.0, 0.009999999776482582, 0.38999998569488525]\n",
      "[0.23000000417232513, 0.05000000074505806, 0.3799999952316284, 0.4000000059604645, 0.8799999952316284, 0.7300000190734863, 0.05000000074505806, 0.6600000262260437, 0.7099999785423279, 0.8999999761581421]\n",
      "[0.10999999940395355, 0.6800000071525574, 0.699999988079071, 0.6800000071525574, 0.3400000035762787, 0.8299999833106995, 0.5799999833106995, 0.6200000047683716, 0.4300000071525574, 0.9800000190734863]\n",
      "[0.8100000023841858, 0.4699999988079071, 0.6299999952316284, 0.6000000238418579, 0.11999999731779099, 0.5099999904632568, 0.8199999928474426, 0.8799999952316284, 0.27000001072883606, 0.3199999928474426]\n",
      "[0.7699999809265137, 0.949999988079071, 0.6100000143051147, 0.029999999329447746, 0.3499999940395355, 0.03999999910593033, 0.8999999761581421, 0.7799999713897705, 0.38999998569488525, 0.4399999976158142]\n",
      "[0.12999999523162842, 0.2199999988079071, 0.6600000262260437, 0.30000001192092896, 0.8299999833106995, 0.07000000029802322, 0.10999999940395355, 0.0, 0.009999999776482582, 0.38999998569488525]\n",
      "[0.23000000417232513, 0.05000000074505806, 0.3799999952316284, 0.4000000059604645, 0.8799999952316284, 0.7300000190734863, 0.05000000074505806, 0.6600000262260437, 0.7099999785423279, 0.8999999761581421]\n",
      "[0.10999999940395355, 0.6800000071525574, 0.699999988079071, 0.6800000071525574, 0.3400000035762787, 0.8299999833106995, 0.5799999833106995, 0.6200000047683716, 0.4300000071525574, 0.9800000190734863]\n",
      "[0.800000011920929, 0.20999999344348907, 0.800000011920929, 0.12999999523162842, 0.6700000166893005, 0.5799999833106995, 0.009999999776482582, 0.36000001430511475, 0.8100000023841858, 0.7599999904632568]\n",
      "[0.029999999329447746, 0.27000001072883606, 0.029999999329447746, 0.6200000047683716, 0.9700000286102295, 0.7400000095367432, 0.9399999976158142, 0.38999998569488525, 0.949999988079071, 0.7900000214576721]\n",
      "[0.44999998807907104, 0.6299999952316284, 0.03999999910593033, 0.1899999976158142, 0.9599999785423279, 0.8899999856948853, 0.9800000190734863, 0.41999998688697815, 0.46000000834465027, 0.09000000357627869]\n"
     ]
    },
    {
     "ename": "IndexError",
     "evalue": "list index out of range",
     "output_type": "error",
     "traceback": [
      "\u001b[0;31m---------------------------------------------------------------------------\u001b[0m",
      "\u001b[0;31mIndexError\u001b[0m                                Traceback (most recent call last)",
      "Cell \u001b[0;32mIn[80], line 53\u001b[0m\n\u001b[1;32m     49\u001b[0m print_matrix(A2)\n\u001b[1;32m     50\u001b[0m print_matrix(A3)\n\u001b[0;32m---> 53\u001b[0m \u001b[43mget_solution_simplex\u001b[49m\u001b[43m(\u001b[49m\u001b[43mC\u001b[49m\u001b[43m,\u001b[49m\u001b[43m \u001b[49m\u001b[43mA1\u001b[49m\u001b[43m,\u001b[49m\u001b[43m \u001b[49m\u001b[43mb1\u001b[49m\u001b[43m)\u001b[49m\n\u001b[1;32m     55\u001b[0m \u001b[38;5;66;03m#get_solution_simplex(C, A2, b2)\u001b[39;00m\n\u001b[1;32m     56\u001b[0m \u001b[38;5;66;03m#get_solution_simplex(C, A3, b3)\u001b[39;00m\n\u001b[1;32m     57\u001b[0m \n\u001b[1;32m     58\u001b[0m \u001b[38;5;66;03m#--------------------------------\u001b[39;00m\n\u001b[1;32m     59\u001b[0m \n\u001b[1;32m     60\u001b[0m \u001b[38;5;66;03m#pegar solucao do Linprog\u001b[39;00m\n",
      "Cell \u001b[0;32mIn[68], line 10\u001b[0m, in \u001b[0;36mget_solution_simplex\u001b[0;34m(c, A, b)\u001b[0m\n\u001b[1;32m      8\u001b[0m \u001b[38;5;66;03m# Caso seja necessario usar variaveis artificiais (Fase 1)\u001b[39;00m\n\u001b[1;32m      9\u001b[0m \u001b[38;5;28;01mif\u001b[39;00m d[\u001b[38;5;241m0\u001b[39m]:\n\u001b[0;32m---> 10\u001b[0m     A2, b2 \u001b[38;5;241m=\u001b[39m \u001b[43msimplex\u001b[49m\u001b[43m(\u001b[49m\u001b[43mc1\u001b[49m\u001b[43m,\u001b[49m\u001b[43mA1\u001b[49m\u001b[43m,\u001b[49m\u001b[43mb1\u001b[49m\u001b[43m,\u001b[49m\u001b[43md\u001b[49m\u001b[43m)\u001b[49m\n\u001b[1;32m     11\u001b[0m     \u001b[38;5;28;01mif\u001b[39;00m A2 \u001b[38;5;129;01mis\u001b[39;00m \u001b[38;5;28;01mNone\u001b[39;00m:\n\u001b[1;32m     12\u001b[0m         \u001b[38;5;28mprint\u001b[39m(\u001b[38;5;124m\"\u001b[39m\u001b[38;5;124mProblema infactivel\u001b[39m\u001b[38;5;124m\"\u001b[39m)\n",
      "Cell \u001b[0;32mIn[67], line 4\u001b[0m, in \u001b[0;36msimplex\u001b[0;34m(c, A, b, d)\u001b[0m\n\u001b[1;32m      3\u001b[0m \u001b[38;5;28;01mdef\u001b[39;00m \u001b[38;5;21msimplex\u001b[39m(c, A, b, d):\n\u001b[0;32m----> 4\u001b[0m     tableau \u001b[38;5;241m=\u001b[39m \u001b[43mtableau_inicial\u001b[49m\u001b[43m(\u001b[49m\u001b[43mc\u001b[49m\u001b[43m,\u001b[49m\u001b[43m \u001b[49m\u001b[43mA\u001b[49m\u001b[43m,\u001b[49m\u001b[43m \u001b[49m\u001b[43mb\u001b[49m\u001b[43m)\u001b[49m\n\u001b[1;32m      5\u001b[0m     nvar \u001b[38;5;241m=\u001b[39m d[\u001b[38;5;241m1\u001b[39m]\n\u001b[1;32m      6\u001b[0m     it \u001b[38;5;241m=\u001b[39m \u001b[38;5;241m0\u001b[39m\n",
      "Cell \u001b[0;32mIn[62], line 10\u001b[0m, in \u001b[0;36mtableau_inicial\u001b[0;34m(c, A, b)\u001b[0m\n\u001b[1;32m      6\u001b[0m identidade, indice_basicas \u001b[38;5;241m=\u001b[39m basicas(A)\n\u001b[1;32m      8\u001b[0m \u001b[38;5;66;03m# LZ: linha zero, contem o valor da função objetivo (fo) seguido pelos custos reduzidos\u001b[39;00m\n\u001b[1;32m      9\u001b[0m \u001b[38;5;66;03m# Função objetivo\u001b[39;00m\n\u001b[0;32m---> 10\u001b[0m fo \u001b[38;5;241m=\u001b[39m \u001b[38;5;241m-\u001b[39m\u001b[38;5;28;43msum\u001b[39;49m\u001b[43m(\u001b[49m\u001b[43mb\u001b[49m\u001b[43m[\u001b[49m\u001b[43mi\u001b[49m\u001b[43m]\u001b[49m\u001b[43m \u001b[49m\u001b[38;5;241;43m*\u001b[39;49m\u001b[43m \u001b[49m\u001b[43mc\u001b[49m\u001b[43m[\u001b[49m\u001b[43mindice_basicas\u001b[49m\u001b[43m[\u001b[49m\u001b[43mi\u001b[49m\u001b[43m]\u001b[49m\u001b[43m]\u001b[49m\u001b[43m \u001b[49m\u001b[38;5;28;43;01mfor\u001b[39;49;00m\u001b[43m \u001b[49m\u001b[43mi\u001b[49m\u001b[43m \u001b[49m\u001b[38;5;129;43;01min\u001b[39;49;00m\u001b[43m \u001b[49m\u001b[38;5;28;43mrange\u001b[39;49m\u001b[43m(\u001b[49m\u001b[38;5;28;43mlen\u001b[39;49m\u001b[43m(\u001b[49m\u001b[43mb\u001b[49m\u001b[43m)\u001b[49m\u001b[43m)\u001b[49m\u001b[43m)\u001b[49m\n\u001b[1;32m     12\u001b[0m \u001b[38;5;66;03m# Custos reduzidos\u001b[39;00m\n\u001b[1;32m     13\u001b[0m cr \u001b[38;5;241m=\u001b[39m [ c[i] \u001b[38;5;241m-\u001b[39m \u001b[38;5;28msum\u001b[39m(A[j][i] \u001b[38;5;241m*\u001b[39m c[indice_basicas[j]] \n\u001b[1;32m     14\u001b[0m         \u001b[38;5;28;01mfor\u001b[39;00m j \u001b[38;5;129;01min\u001b[39;00m \u001b[38;5;28mrange\u001b[39m(\u001b[38;5;28mlen\u001b[39m(A))) \u001b[38;5;28;01mif\u001b[39;00m i \u001b[38;5;129;01mnot\u001b[39;00m \u001b[38;5;129;01min\u001b[39;00m indice_basicas \u001b[38;5;28;01melse\u001b[39;00m \u001b[38;5;241m0\u001b[39m\n\u001b[1;32m     15\u001b[0m         \u001b[38;5;28;01mfor\u001b[39;00m i \u001b[38;5;129;01min\u001b[39;00m \u001b[38;5;28mrange\u001b[39m(\u001b[38;5;28mlen\u001b[39m(A[\u001b[38;5;241m0\u001b[39m]))\n\u001b[1;32m     16\u001b[0m      ]\n",
      "Cell \u001b[0;32mIn[62], line 10\u001b[0m, in \u001b[0;36m<genexpr>\u001b[0;34m(.0)\u001b[0m\n\u001b[1;32m      6\u001b[0m identidade, indice_basicas \u001b[38;5;241m=\u001b[39m basicas(A)\n\u001b[1;32m      8\u001b[0m \u001b[38;5;66;03m# LZ: linha zero, contem o valor da função objetivo (fo) seguido pelos custos reduzidos\u001b[39;00m\n\u001b[1;32m      9\u001b[0m \u001b[38;5;66;03m# Função objetivo\u001b[39;00m\n\u001b[0;32m---> 10\u001b[0m fo \u001b[38;5;241m=\u001b[39m \u001b[38;5;241m-\u001b[39m\u001b[38;5;28msum\u001b[39m(b[i] \u001b[38;5;241m*\u001b[39m \u001b[43mc\u001b[49m\u001b[43m[\u001b[49m\u001b[43mindice_basicas\u001b[49m\u001b[43m[\u001b[49m\u001b[43mi\u001b[49m\u001b[43m]\u001b[49m\u001b[43m]\u001b[49m \u001b[38;5;28;01mfor\u001b[39;00m i \u001b[38;5;129;01min\u001b[39;00m \u001b[38;5;28mrange\u001b[39m(\u001b[38;5;28mlen\u001b[39m(b)))\n\u001b[1;32m     12\u001b[0m \u001b[38;5;66;03m# Custos reduzidos\u001b[39;00m\n\u001b[1;32m     13\u001b[0m cr \u001b[38;5;241m=\u001b[39m [ c[i] \u001b[38;5;241m-\u001b[39m \u001b[38;5;28msum\u001b[39m(A[j][i] \u001b[38;5;241m*\u001b[39m c[indice_basicas[j]] \n\u001b[1;32m     14\u001b[0m         \u001b[38;5;28;01mfor\u001b[39;00m j \u001b[38;5;129;01min\u001b[39;00m \u001b[38;5;28mrange\u001b[39m(\u001b[38;5;28mlen\u001b[39m(A))) \u001b[38;5;28;01mif\u001b[39;00m i \u001b[38;5;129;01mnot\u001b[39;00m \u001b[38;5;129;01min\u001b[39;00m indice_basicas \u001b[38;5;28;01melse\u001b[39;00m \u001b[38;5;241m0\u001b[39m\n\u001b[1;32m     15\u001b[0m         \u001b[38;5;28;01mfor\u001b[39;00m i \u001b[38;5;129;01min\u001b[39;00m \u001b[38;5;28mrange\u001b[39m(\u001b[38;5;28mlen\u001b[39m(A[\u001b[38;5;241m0\u001b[39m]))\n\u001b[1;32m     16\u001b[0m      ]\n",
      "\u001b[0;31mIndexError\u001b[0m: list index out of range"
     ]
    }
   ],
   "source": [
    "import torch\n",
    "\n",
    "def print_matrix(matrix):\n",
    "    for row in matrix:\n",
    "        print(row)\n",
    "\n",
    "\n",
    "nvar = 10\n",
    "\n",
    "A = torch.round(torch.rand(nvar, nvar), decimals=2)  \n",
    "C = torch.round(torch.rand(nvar, 1), decimals=2)  \n",
    "X = torch.round(torch.rand(nvar, 1), decimals=2)  \n",
    "\n",
    "\n",
    "A1 = A[:int(0.2*nvar), :]\n",
    "A2 = A[:int(0.5*nvar), :]\n",
    "A3 = A[:int(0.8*nvar), :]\n",
    "\n",
    "\n",
    "b1 = A1@X\n",
    "b2 = A2@X\n",
    "b3 = A3@X\n",
    "\n",
    "\n",
    "\n",
    "print(\"Dimensões:\")\n",
    "print(f\"A: {len(A)}x{len(A[0])}\")\n",
    "print(f\"X: {len(X)}x{len(X[0])}\")\n",
    "print(f\"A1: {len(A1)}x{len(A1[0])}\")\n",
    "print(f\"A2: {len(A2)}x{len(A2[0])}\")\n",
    "print(f\"A3: {len(A3)}x{len(A3[0])}\")\n",
    "print(f\"b1: {len(b1)}x{len(b1[0])}\")\n",
    "print(f\"b2: {len(b2)}x{len(b2[0])}\")\n",
    "print(f\"b3: {len(b3)}x{len(b3[0])}\")\n",
    "print(f\"C: {len(C)}x{len(C[0])}\")\n",
    "\n",
    "# Convert tensors to float lists\n",
    "A = A.tolist()\n",
    "A1 = A1.tolist()\n",
    "A2 = A2.tolist()\n",
    "A3 = A3.tolist()\n",
    "C = C.T.tolist()\n",
    "b1 = b1.T.tolist()\n",
    "b2 = b2.T.tolist()\n",
    "b3 = b3.T.tolist()\n",
    "\n",
    "# Convert nested lists to float\n",
    "print_matrix(A1)\n",
    "print_matrix(A2)\n",
    "print_matrix(A3)\n",
    "\n",
    "\n",
    "get_solution_simplex(C, A1, b1)\n",
    "\n",
    "#get_solution_simplex(C, A2, b2)\n",
    "#get_solution_simplex(C, A3, b3)\n",
    "\n",
    "#--------------------------------\n",
    "\n",
    "#pegar solucao do Linprog\n",
    "\n",
    "\n",
    "\n",
    "\n",
    "\n"
   ]
  },
  {
   "cell_type": "code",
   "execution_count": null,
   "id": "056671d2",
   "metadata": {},
   "outputs": [],
   "source": []
  }
 ],
 "metadata": {
  "kernelspec": {
   "display_name": "Python 3 (ipykernel)",
   "language": "python",
   "name": "python3"
  },
  "language_info": {
   "codemirror_mode": {
    "name": "ipython",
    "version": 3
   },
   "file_extension": ".py",
   "mimetype": "text/x-python",
   "name": "python",
   "nbconvert_exporter": "python",
   "pygments_lexer": "ipython3",
   "version": "3.12.6"
  }
 },
 "nbformat": 4,
 "nbformat_minor": 5
}
